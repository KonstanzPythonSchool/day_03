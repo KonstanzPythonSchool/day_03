{
 "cells": [
  {
   "cell_type": "markdown",
   "metadata": {},
   "source": [
    "# Session 3.1: Computation\n",
    "One mayor strength of Python is, that it works with modules. This means, that additional data types, functions, etc. can be made available by simply importing existing modules. Those modules are in general written by other python users. Due to the large number of python users, there is an enormous amount of python modules available. We had seen some of them already:\n",
    "\n",
    "* os (Miscellaneous operating system interfaces)\n",
    "* sys (Access system-specific parameters and functions)\n",
    "* math (Mathematical functions (sin() etc.))\n",
    "\n",
    "In this part we will focus on three other also very popular modules for scientific use:\n",
    "\n",
    "* numpy (Fundamental package for scientific computing with Python) http://www.numpy.org/\n",
    "* scipy (Scientific Computing Tools for Python) https://www.scipy.org/\n",
    "* pandas (Python Data Analysis Library) https://pandas.pydata.org/"
   ]
  },
  {
   "cell_type": "markdown",
   "metadata": {},
   "source": [
    "## Numpy"
   ]
  },
  {
   "cell_type": "code",
   "execution_count": null,
   "metadata": {},
   "outputs": [],
   "source": []
  },
  {
   "cell_type": "code",
   "execution_count": null,
   "metadata": {},
   "outputs": [],
   "source": []
  },
  {
   "cell_type": "markdown",
   "metadata": {},
   "source": [
    "Numpy provides many functions to create arrays:"
   ]
  },
  {
   "cell_type": "code",
   "execution_count": null,
   "metadata": {},
   "outputs": [],
   "source": [
    "a = np.arange(18)     # Return 18 evenly spaced values\n",
    "b = np.zeros((2,2))   # Create an array of all zeros\n",
    "c = np.ones((1,2))    # Create an array of all ones\n",
    "d = np.full((2,2), 7)  # Create a constant array\n",
    "e = np.eye(2)         # Create a 2x2 identity matrix\n",
    "f = np.random.random((2,2))  # Create an array filled with random values"
   ]
  },
  {
   "cell_type": "markdown",
   "metadata": {},
   "source": [
    "<div class=\"alert alert-block alert-info\">\n",
    "Print some of those arrays to see, what is the difference.\n",
    "</div>"
   ]
  },
  {
   "cell_type": "code",
   "execution_count": null,
   "metadata": {},
   "outputs": [],
   "source": []
  },
  {
   "cell_type": "markdown",
   "metadata": {},
   "source": [
    "- **ndim**: number of dimensions, rank of array\n",
    "- **size**: total number of elements\n",
    "- **shape**: number of elements in each dimension"
   ]
  },
  {
   "cell_type": "code",
   "execution_count": null,
   "metadata": {},
   "outputs": [],
   "source": [
    "print(a)\n",
    "print(\"dims:\", a.ndim)\n",
    "print(\"size:\", a.size)\n",
    "print(\"shape:\", a.shape)"
   ]
  },
  {
   "cell_type": "code",
   "execution_count": null,
   "metadata": {},
   "outputs": [],
   "source": [
    "print(f)\n",
    "print(\"dims:\", f.ndim)\n",
    "print(\"size:\", f.size)\n",
    "print(\"shape:\", f.shape)"
   ]
  },
  {
   "cell_type": "markdown",
   "metadata": {},
   "source": [
    "### Indexing"
   ]
  },
  {
   "cell_type": "markdown",
   "metadata": {},
   "source": [
    "Indexing with arrays works quite similar compared to lists."
   ]
  },
  {
   "cell_type": "code",
   "execution_count": null,
   "metadata": {},
   "outputs": [],
   "source": [
    "print(a)\n",
    "\n",
    "print(a[0])   # first element\n",
    "print(a[-1])  # last element\n",
    "\n",
    "print(a[:4])  # the first four elements\n",
    "print(a[-4:])  # the last four elements\n",
    "\n",
    "print(a[1:4]) # slice of elements from index 1 to (not including) index 4\n",
    "print(a[::2]) # every second element\n",
    "\n",
    "print(a[::])   # all elements\n",
    "print(a[::-1]) # all elements in reversed order"
   ]
  },
  {
   "cell_type": "markdown",
   "metadata": {},
   "source": [
    "As you have seen arrays can have more than one dimension. Dimensions are also called \"axis\" in numpy. You can also change it dimensionality by calling `.reshape()`. "
   ]
  },
  {
   "cell_type": "code",
   "execution_count": null,
   "metadata": {},
   "outputs": [],
   "source": [
    "a = np.arange(18)     # Return 18 evenly spaced values\n",
    "print(\"Array a:\\n\", a)\n",
    "print(\"Size of a:\", a.size)\n",
    "print(\"Shape of a:\", a.shape)"
   ]
  },
  {
   "cell_type": "code",
   "execution_count": null,
   "metadata": {},
   "outputs": [],
   "source": []
  },
  {
   "cell_type": "markdown",
   "metadata": {},
   "source": [
    "Indexing for high-dimensional arrays changes a little bit."
   ]
  },
  {
   "cell_type": "code",
   "execution_count": null,
   "metadata": {},
   "outputs": [],
   "source": [
    "a2 = np.arange(16).reshape((4,4)) # 4x4 matrix\n",
    "print(a2)"
   ]
  },
  {
   "cell_type": "code",
   "execution_count": null,
   "metadata": {},
   "outputs": [],
   "source": [
    "print(a2[0,0])    # first row, first element\n",
    "print(a2[-1,-1])  # last row, last element\n",
    "print(\"--\")\n",
    "print(a2[0])      # firs row\n",
    "print(a2[0,:])    # first row as well\n",
    "print(\"--\")\n",
    "print(a2[:,0])    # first column\n",
    "print(a2[:,-1])   # last column\n",
    "print(\"--\")\n",
    "print(a2[:2,:2])   # upper left 2x2 part of matrix\n",
    "print(a2[-2:,-2:]) # lower right 2x2 part of matrix\n",
    "print(\"--\")\n",
    "print(a2.diagonal())"
   ]
  },
  {
   "cell_type": "markdown",
   "metadata": {},
   "source": [
    "<div class=\"alert alert-block alert-info\">\n",
    "Try to get the diagonal of the upper left 3x3 part of the original 4x4 matrix. Use `.diagonal()` for that. Use a cell below.\n",
    "</div>"
   ]
  },
  {
   "cell_type": "code",
   "execution_count": null,
   "metadata": {},
   "outputs": [],
   "source": []
  },
  {
   "cell_type": "markdown",
   "metadata": {},
   "source": [
    "### Basic operations"
   ]
  },
  {
   "cell_type": "code",
   "execution_count": null,
   "metadata": {},
   "outputs": [],
   "source": []
  },
  {
   "cell_type": "code",
   "execution_count": null,
   "metadata": {},
   "outputs": [],
   "source": []
  },
  {
   "cell_type": "code",
   "execution_count": null,
   "metadata": {},
   "outputs": [],
   "source": []
  },
  {
   "cell_type": "markdown",
   "metadata": {},
   "source": [
    "Arrays allow you a very intuitive use of calculations on large data sets. Let's assume you want to calculate $f(x)$ given that\n",
    "\n",
    "$f(x) = \\dfrac{a \\cdot b \\cdot t}{x}$"
   ]
  },
  {
   "cell_type": "code",
   "execution_count": null,
   "metadata": {},
   "outputs": [],
   "source": [
    "a = 1.0\n",
    "b = 300\n",
    "t = 3.14\n",
    "x = np.arange(1.0, 10.0, 0.1) # arange numbers from 1 to 10 in steps of 0.1 (is 10 included?)\n",
    "x"
   ]
  },
  {
   "cell_type": "markdown",
   "metadata": {},
   "source": [
    "<div class=\"alert alert-block alert-info\">\n",
    "Calculate $f(x)$ according to the formula.\n",
    "</div>"
   ]
  },
  {
   "cell_type": "code",
   "execution_count": null,
   "metadata": {},
   "outputs": [],
   "source": []
  },
  {
   "cell_type": "markdown",
   "metadata": {},
   "source": [
    "Numpy has also build in some usefull mathematical functions."
   ]
  },
  {
   "cell_type": "code",
   "execution_count": null,
   "metadata": {},
   "outputs": [],
   "source": []
  },
  {
   "cell_type": "code",
   "execution_count": null,
   "metadata": {},
   "outputs": [],
   "source": []
  },
  {
   "cell_type": "code",
   "execution_count": null,
   "metadata": {},
   "outputs": [],
   "source": [
    "# small teaser for plotting (next session)\n",
    "import matplotlib.pyplot as plt\n",
    "%matplotlib inline\n",
    "plt.plot(x, np.sin(x))\n",
    "plt.plot(x, np.cos(x))\n",
    "plt.show()"
   ]
  },
  {
   "cell_type": "markdown",
   "metadata": {},
   "source": [
    "### Unary and Comparison Operations"
   ]
  },
  {
   "cell_type": "markdown",
   "metadata": {},
   "source": [
    "Many operations, like calculations of the sum of an array, are build in functions of the numpy array data type."
   ]
  },
  {
   "cell_type": "code",
   "execution_count": null,
   "metadata": {},
   "outputs": [],
   "source": [
    "a = np.arange(10.0)\n",
    "print(\"Sum is\", a.)\n",
    "print(\"Minimum is\", a.)\n",
    "print(\"Maximum is\", a.)\n",
    "print(\"Mean is\", a.)"
   ]
  },
  {
   "cell_type": "code",
   "execution_count": null,
   "metadata": {},
   "outputs": [],
   "source": []
  },
  {
   "cell_type": "markdown",
   "metadata": {},
   "source": [
    "If an array is used together with comparison operators, you can determine and select certain values. "
   ]
  },
  {
   "cell_type": "code",
   "execution_count": null,
   "metadata": {},
   "outputs": [],
   "source": []
  },
  {
   "cell_type": "code",
   "execution_count": null,
   "metadata": {},
   "outputs": [],
   "source": []
  },
  {
   "cell_type": "markdown",
   "metadata": {},
   "source": [
    "__Masking__: Masking (boolean array indexing) lets you pick out arbitrary elements of an array. Frequently this type of indexing is used to select the elements of an array that satisfy some condition. Here is an example:"
   ]
  },
  {
   "cell_type": "code",
   "execution_count": null,
   "metadata": {},
   "outputs": [],
   "source": []
  },
  {
   "cell_type": "markdown",
   "metadata": {},
   "source": [
    "Let's assume, we have some data inside of an array, that we want to analyze. We will learn, how to load such data from files, for example. For now, we fill this array with random values."
   ]
  },
  {
   "cell_type": "code",
   "execution_count": null,
   "metadata": {},
   "outputs": [],
   "source": [
    "# create an 20x5 array with random values between 0 and 1\n",
    "data = np.random.random(100)\n",
    "data = data.reshape((20,5)) \n",
    "\n",
    "# You could also do it in one line\n",
    "# data = np.random.random(100).reshape((20,5))\n",
    "\n",
    "print(data)"
   ]
  },
  {
   "cell_type": "code",
   "execution_count": null,
   "metadata": {},
   "outputs": [],
   "source": []
  },
  {
   "cell_type": "code",
   "execution_count": null,
   "metadata": {},
   "outputs": [],
   "source": []
  },
  {
   "cell_type": "code",
   "execution_count": null,
   "metadata": {},
   "outputs": [],
   "source": []
  },
  {
   "cell_type": "markdown",
   "metadata": {},
   "source": [
    "In 2D arrays you can decide if you want to perform calculations on the whole data set or row or column wise."
   ]
  },
  {
   "cell_type": "code",
   "execution_count": null,
   "metadata": {},
   "outputs": [],
   "source": []
  },
  {
   "cell_type": "markdown",
   "metadata": {},
   "source": [
    "<div class=\"alert alert-block alert-info\">\n",
    "Get the range of values (min-max) for each column of this dummy data set.\n",
    "</div>"
   ]
  },
  {
   "cell_type": "code",
   "execution_count": null,
   "metadata": {},
   "outputs": [],
   "source": []
  },
  {
   "cell_type": "markdown",
   "metadata": {},
   "source": [
    "### Save and Load"
   ]
  },
  {
   "cell_type": "markdown",
   "metadata": {},
   "source": [
    "If we want to save and load some arrays, we can use the functions provided by `numpy`.\n",
    "\n",
    "You can find details: \n",
    "* [numpy docs: savetxt](https://docs.scipy.org/doc/numpy-1.14.0/reference/generated/numpy.savetxt.html)\n",
    "* [numpy docs: loadtxt](https://docs.scipy.org/doc/numpy-1.15.0/reference/generated/numpy.loadtxt.html)\n"
   ]
  },
  {
   "cell_type": "code",
   "execution_count": null,
   "metadata": {},
   "outputs": [],
   "source": [
    "np.savetxt(\"my_first_data.txt\", data)"
   ]
  },
  {
   "cell_type": "code",
   "execution_count": null,
   "metadata": {},
   "outputs": [],
   "source": [
    "loaded_data = np.loadtxt(\"my_first_data.txt\")\n",
    "loaded_data"
   ]
  },
  {
   "cell_type": "code",
   "execution_count": null,
   "metadata": {},
   "outputs": [],
   "source": [
    "np.save(\"my_first_data.npy\", data)          # binary compressed data format\n",
    "loaded_data = np.load(\"my_first_data.npy\")\n",
    "loaded_data"
   ]
  },
  {
   "cell_type": "code",
   "execution_count": null,
   "metadata": {},
   "outputs": [],
   "source": [
    "# annotated array: recarray\n",
    "loaded_data = np.genfromtxt(\"my_first_data.txt\")\n",
    "# better use pandas"
   ]
  },
  {
   "cell_type": "markdown",
   "metadata": {},
   "source": [
    "### Numpy functions\n",
    "Numpy provides already a bunch of functions which you can use for some standard tasks. Here we will only use `histogram` as a basic example. See the numpy documentation for a full list:\n",
    "\n",
    "- [Numpy functions by category](https://docs.scipy.org/doc/numpy-1.13.0/reference/)\n",
    "- [Numpy mathematical functions](https://docs.scipy.org/doc/numpy-1.13.0/reference/routines.math.html)"
   ]
  },
  {
   "cell_type": "code",
   "execution_count": null,
   "metadata": {},
   "outputs": [],
   "source": [
    "np.histogram(data)"
   ]
  },
  {
   "cell_type": "code",
   "execution_count": null,
   "metadata": {},
   "outputs": [],
   "source": [
    "count, bins = np.histogram(data, bins=20)\n",
    "print(count.shape)\n",
    "print(bins.shape)"
   ]
  },
  {
   "cell_type": "code",
   "execution_count": null,
   "metadata": {},
   "outputs": [],
   "source": [
    "bin_centers = (bins[:-1] + bins[1:]) / 2.0\n",
    "print(bin_centers)\n",
    "print(bin_centers.shape)"
   ]
  },
  {
   "cell_type": "code",
   "execution_count": null,
   "metadata": {},
   "outputs": [],
   "source": [
    "plt.bar(bin_centers, count, width=0.01)\n",
    "plt.show()"
   ]
  },
  {
   "cell_type": "markdown",
   "metadata": {},
   "source": [
    "## Scipy"
   ]
  },
  {
   "cell_type": "code",
   "execution_count": null,
   "metadata": {},
   "outputs": [],
   "source": [
    "# it is good practice to import everything at the top\n",
    "import matplotlib.pyplot as plt\n",
    "from scipy.optimize import curve_fit # this is another way to import a python function\n",
    "# we can now use curve_fit() without putting any prefix"
   ]
  },
  {
   "cell_type": "markdown",
   "metadata": {},
   "source": [
    "@#comment\n",
    "\n",
    "Scipy offers a vast amount of functions for data analysis and scientific use. We will have a look at a very common application: **Fit a function to your data**"
   ]
  },
  {
   "cell_type": "code",
   "execution_count": null,
   "metadata": {},
   "outputs": [],
   "source": [
    "data = np.loadtxt(\"experimental_data.txt\")  # load data from a file\n",
    "print(data)"
   ]
  },
  {
   "cell_type": "code",
   "execution_count": null,
   "metadata": {},
   "outputs": [],
   "source": []
  },
  {
   "cell_type": "code",
   "execution_count": null,
   "metadata": {
    "scrolled": true
   },
   "outputs": [],
   "source": []
  },
  {
   "cell_type": "markdown",
   "metadata": {},
   "source": [
    "We can see our data looks like a exponential function.\n",
    "\n",
    "Lets define a general exponential function $f(x)=a \\cdot \\exp(-b \\cdot x) + c$."
   ]
  },
  {
   "cell_type": "code",
   "execution_count": null,
   "metadata": {},
   "outputs": [],
   "source": [
    "# This is a function declaration. \n",
    "def func(x, a, b, c):\n",
    "    \"\"\"Function we want use for fitting\"\"\"\n",
    "    return a * np.exp(-b * x) + c"
   ]
  },
  {
   "cell_type": "code",
   "execution_count": null,
   "metadata": {},
   "outputs": [],
   "source": []
  },
  {
   "cell_type": "code",
   "execution_count": null,
   "metadata": {},
   "outputs": [],
   "source": [
    "# let's have a look at the fit\n",
    "%matplotlib inline\n",
    "plt.scatter(xdata, ydata, label='data')\n",
    "\n",
    "plt.plot(xdata,\n",
    "         func(xdata, *popt ), \n",
    "         'r-', \n",
    "         label='fit: a=%5.3f, b=%5.3f, c=%5.3f' % tuple(popt))\n",
    "\n",
    "plt.legend()"
   ]
  },
  {
   "cell_type": "markdown",
   "metadata": {},
   "source": [
    "From theory we know that we have some constraints to our function. We can easily also put them in `curve_fit` using the argument `bounds=( list(lowerbounds), list(upperbounds) )`."
   ]
  },
  {
   "cell_type": "code",
   "execution_count": null,
   "metadata": {},
   "outputs": [],
   "source": []
  },
  {
   "cell_type": "markdown",
   "metadata": {},
   "source": [
    "## Pandas\n",
    "The pandas module helps you to arrange and treat your data like tables. You have also the posibility to import and export your data from various different formats (CSV for example which is also compatible with Exel)."
   ]
  },
  {
   "cell_type": "code",
   "execution_count": null,
   "metadata": {},
   "outputs": [],
   "source": [
    "import pandas as pd"
   ]
  },
  {
   "cell_type": "markdown",
   "metadata": {},
   "source": [
    "### Basics"
   ]
  },
  {
   "cell_type": "code",
   "execution_count": null,
   "metadata": {},
   "outputs": [],
   "source": []
  },
  {
   "cell_type": "code",
   "execution_count": null,
   "metadata": {},
   "outputs": [],
   "source": []
  },
  {
   "cell_type": "markdown",
   "metadata": {},
   "source": [
    "By using pandas you have some advantages. Nicer output of your data is one of them. Selection can get easier as well, but is different compared to numpy."
   ]
  },
  {
   "cell_type": "code",
   "execution_count": null,
   "metadata": {},
   "outputs": [],
   "source": []
  },
  {
   "cell_type": "markdown",
   "metadata": {},
   "source": [
    "You can perform calculations with pandas as you would do with numpy. You should consider not to use pandas for really big data sets, since it may low down, particularly if you try to display the data. "
   ]
  },
  {
   "cell_type": "code",
   "execution_count": null,
   "metadata": {},
   "outputs": [],
   "source": []
  },
  {
   "cell_type": "markdown",
   "metadata": {},
   "source": [
    "### Mixed tables"
   ]
  },
  {
   "cell_type": "markdown",
   "metadata": {},
   "source": [
    "Pandas allows you to arrange your data like in the following example. Imagine you have a data set with two species with several members. You could then easily group your data."
   ]
  },
  {
   "cell_type": "code",
   "execution_count": null,
   "metadata": {},
   "outputs": [],
   "source": [
    "table2 = pd.DataFrame({'spec' : ['human', 'animal', 'human', 'animal', 'human', 'animal', 'human', 'animal'],\n",
    "                       'num'  : ['one', 'one', 'two', 'three', 'two', 'two', 'one', 'three'],\n",
    "                       'A' : np.random.randn(8),\n",
    "                       'B' : np.random.randn(8)})\n",
    "table2"
   ]
  },
  {
   "cell_type": "code",
   "execution_count": null,
   "metadata": {},
   "outputs": [],
   "source": []
  },
  {
   "cell_type": "markdown",
   "metadata": {},
   "source": [
    "<div class=\"alert alert-block alert-info\">\n",
    "Calculate the mean values for A and B for the two species.\n",
    "</div>"
   ]
  },
  {
   "cell_type": "code",
   "execution_count": null,
   "metadata": {},
   "outputs": [],
   "source": []
  },
  {
   "cell_type": "markdown",
   "metadata": {},
   "source": [
    "### Save and Load"
   ]
  },
  {
   "cell_type": "code",
   "execution_count": null,
   "metadata": {},
   "outputs": [],
   "source": [
    "table2.to_csv(\"table2.csv\")  # save to file, check the directory where this notebook is stored\n",
    "loaded_table = pd.read_csv(\"table2.csv\", index_col=0)\n",
    "loaded_table"
   ]
  },
  {
   "cell_type": "code",
   "execution_count": null,
   "metadata": {},
   "outputs": [],
   "source": [
    "table2.to_csv(\"table2.csv\", index=False)  # save to file, check the directory where this notebook is stored\n",
    "loaded_table = pd.read_csv(\"table2.csv\")\n",
    "loaded_table"
   ]
  },
  {
   "cell_type": "code",
   "execution_count": null,
   "metadata": {},
   "outputs": [],
   "source": [
    "print(table2.to_latex())   # get a latex table"
   ]
  },
  {
   "cell_type": "markdown",
   "metadata": {},
   "source": [
    "<div class=\"alert alert-block alert-info\">\n",
    "For LaTeX users: Write the output of `to_latex()` to a file (which you can import into you TeX document.)\n",
    "</div>"
   ]
  },
  {
   "cell_type": "code",
   "execution_count": null,
   "metadata": {},
   "outputs": [],
   "source": []
  },
  {
   "cell_type": "markdown",
   "metadata": {},
   "source": [
    "### Bonus: View"
   ]
  },
  {
   "cell_type": "markdown",
   "metadata": {},
   "source": [
    "Pandas can be also used to improve the way you view your data. It makes it very easy to create a custom style sheet for your tables. Here we define a simple function which takes a single value. Based on the type of the value it is colored:\n",
    "* String - green\n",
    "* Number smaller than 0 - red\n",
    "* Number bigger than 0 - black"
   ]
  },
  {
   "cell_type": "code",
   "execution_count": null,
   "metadata": {},
   "outputs": [],
   "source": [
    "def color_negative_red(val):\n",
    "    \"\"\"\n",
    "    Takes a scalar and returns a string with\n",
    "    the css property `'color: red'` for negative\n",
    "    strings, black otherwise.\n",
    "    \"\"\"\n",
    "    if type(val) == float or type(val) == int:\n",
    "        color = 'red' if val < 0 else 'black'\n",
    "    else:\n",
    "        color = 'green'\n",
    "    return 'color: %s' % color"
   ]
  },
  {
   "cell_type": "code",
   "execution_count": null,
   "metadata": {},
   "outputs": [],
   "source": [
    "table2.style.applymap(color_negative_red)  # we apply the function to our table"
   ]
  },
  {
   "cell_type": "markdown",
   "metadata": {},
   "source": [
    "We can also apply a function to each column of out data set. Then our function is able to do some analysis for us, for example highlight the maximum value of each column."
   ]
  },
  {
   "cell_type": "code",
   "execution_count": null,
   "metadata": {},
   "outputs": [],
   "source": [
    "def highlight_max(s):\n",
    "    '''\n",
    "    highlight the maximum in a Column yellow.\n",
    "    '''\n",
    "    if s.dtype == float or s.dtype == int:\n",
    "        is_max = s == s.max()\n",
    "        return ['background-color: yellow' if v else '' for v in is_max]\n",
    "    else:\n",
    "        return ['' for v in s]"
   ]
  },
  {
   "cell_type": "code",
   "execution_count": null,
   "metadata": {},
   "outputs": [],
   "source": [
    "table2.style.apply(highlight_max)"
   ]
  },
  {
   "cell_type": "markdown",
   "metadata": {},
   "source": [
    "<div class=\"alert alert-block alert-info\">\n",
    "What do you think? Is it possible to apply both functions to our table to highlight negative and max values at the same time?\n",
    "</div>"
   ]
  },
  {
   "cell_type": "code",
   "execution_count": null,
   "metadata": {},
   "outputs": [],
   "source": []
  },
  {
   "cell_type": "markdown",
   "metadata": {},
   "source": [
    "Finally, we can save our data as a CSV file for example. We could then load this file again with python for later analysis or with MS Exel for use in a document. It is also possible to print a pandas table as LaTeX code."
   ]
  },
  {
   "cell_type": "markdown",
   "metadata": {},
   "source": [
    "<div class=\"alert alert-block alert-info\">\n",
    "Edit the function below to highlight min values inside a column in blue. Apply both functions, highlight_max and highlight_min, to the table which is prepared for you. \n",
    "</div>"
   ]
  },
  {
   "cell_type": "code",
   "execution_count": null,
   "metadata": {},
   "outputs": [],
   "source": [
    "def highlight_max(s):             # <- change name\n",
    "    '''\n",
    "    highlight the maximum in a Column yellow.\n",
    "    '''\n",
    "    if s.dtype == float or s.dtype == int:\n",
    "        is_max = s == s.max()    #  <- chnage to min\n",
    "        return ['background-color: yellow' if v else '' for v in is_max]  # <- change to min\n",
    "    else:\n",
    "        return ['' for v in s]"
   ]
  },
  {
   "cell_type": "code",
   "execution_count": null,
   "metadata": {},
   "outputs": [],
   "source": []
  },
  {
   "cell_type": "code",
   "execution_count": null,
   "metadata": {},
   "outputs": [],
   "source": [
    "# you can use this dummy data\n",
    "data = np.random.random(100).reshape((20,5))\n",
    "table = pd.DataFrame(data, columns=[\"obs1\",\"obs2\",\"obs3\",\"obs4\",\"obs5\"])"
   ]
  },
  {
   "cell_type": "code",
   "execution_count": null,
   "metadata": {},
   "outputs": [],
   "source": []
  },
  {
   "cell_type": "code",
   "execution_count": null,
   "metadata": {},
   "outputs": [],
   "source": []
  },
  {
   "cell_type": "code",
   "execution_count": null,
   "metadata": {},
   "outputs": [],
   "source": []
  }
 ],
 "metadata": {
  "kernelspec": {
   "display_name": "Python 3",
   "language": "python",
   "name": "python3"
  },
  "language_info": {
   "codemirror_mode": {
    "name": "ipython",
    "version": 3
   },
   "file_extension": ".py",
   "mimetype": "text/x-python",
   "name": "python",
   "nbconvert_exporter": "python",
   "pygments_lexer": "ipython3",
   "version": "3.5.2"
  },
  "toc": {
   "base_numbering": 1,
   "nav_menu": {},
   "number_sections": true,
   "sideBar": true,
   "skip_h1_title": false,
   "title_cell": "Table of Contents",
   "title_sidebar": "Contents",
   "toc_cell": false,
   "toc_position": {},
   "toc_section_display": true,
   "toc_window_display": false
  }
 },
 "nbformat": 4,
 "nbformat_minor": 2
}
