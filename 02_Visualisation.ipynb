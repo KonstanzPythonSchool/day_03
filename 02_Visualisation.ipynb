{
 "cells": [
  {
   "cell_type": "markdown",
   "metadata": {},
   "source": [
    "# Session 3.2: Visualization \n",
    "In this part we will learn how to use python to display nice plots of your data and save them. We will use the [matplotlib](https://matplotlib.org/) package for this. This is one of the most prominent one and you will find a vast amount of examples on the official web site.\n",
    "\n",
    "As with other packages we have to import matplotlib first. Since there are different options, how the plots can be displayed in an Jupyter Notebook, we should define the output. This is done by a so called [build-in magical commands](http://ipython.readthedocs.io/en/stable/interactive/magics.html) which start alwais with __%__. "
   ]
  },
  {
   "cell_type": "code",
   "execution_count": null,
   "metadata": {},
   "outputs": [],
   "source": [
    "import numpy as np\n",
    "\n",
    "import matplotlib.pyplot as plt      # this is the actual module for plotting\n",
    "from matplotlib.pyplot import imread # we will need this to plot images\n",
    "%matplotlib inline"
   ]
  },
  {
   "cell_type": "markdown",
   "metadata": {},
   "source": [
    "Now we said, that we want to display our plots directly after the cell where the plot command were executed. This is a nice option for testing and writing documentations. To see other available output options for matplotlib just execute:"
   ]
  },
  {
   "cell_type": "code",
   "execution_count": null,
   "metadata": {},
   "outputs": [],
   "source": [
    "%matplotlib --list"
   ]
  },
  {
   "cell_type": "markdown",
   "metadata": {},
   "source": [
    "## Basic Plots"
   ]
  },
  {
   "cell_type": "code",
   "execution_count": null,
   "metadata": {},
   "outputs": [],
   "source": []
  },
  {
   "cell_type": "code",
   "execution_count": null,
   "metadata": {},
   "outputs": [],
   "source": []
  },
  {
   "cell_type": "code",
   "execution_count": null,
   "metadata": {},
   "outputs": [],
   "source": [
    "# a more realistic example with several functions in one plot\n",
    "xdata = np.arange(0, 10, 0.1)    # array with numbers between 0 and 10\n",
    "ydata1 = xdata                   # produce some dummy data from functions\n",
    "ydata2 = np.cos(xdata)\n",
    "ydata3 = np.sin(xdata)\n",
    "\n",
    "plt.plot(xdata, ydata1, label=\"f(x) = x\")\n",
    "plt.plot(xdata, ydata2, label=\"f(x) = cos(x)\")\n",
    "plt.plot(xdata, ydata3, label=\"f(x) = sin(x)\")\n",
    "\n",
    "plt.xlabel('x')      # set x and y labels\n",
    "plt.ylabel('f(x)')\n",
    "plt.legend()         # activate the legend"
   ]
  },
  {
   "cell_type": "markdown",
   "metadata": {},
   "source": [
    "As you have seen, that __plot()__ draws a straight line per default and selects different colors based on a predefined color list. We can change this by setting some attributes like `color`, `linestyle` and `linewidth`.\n",
    "\n",
    "Some common line styles are: ‘solid’, ‘dashed’, ‘dashdot’, ‘dotted’ or their shortcuts:  '-', '--', '-.', ':'\n",
    "\n",
    "You can set the color by typing the name ('blue') or the corresponding shortcut ('b') but you can use a tuple of RGB values as well (255, 0, 0). Some common colors are:\n",
    "\n",
    "|character| \tcolor|\n",
    "|--------|----------|\n",
    "|'b' |\tblue|\n",
    "|'g' |\tgreen|\n",
    "|'r' |\tred|\n",
    "|'c' |\tcyan|\n",
    "|'m' |\tmagenta|\n",
    "|'y' |\tyellow|\n",
    "|'k' |\tblack|\n",
    "|'w' |\twhite|"
   ]
  },
  {
   "cell_type": "markdown",
   "metadata": {},
   "source": [
    "<div class=\"alert alert-block alert-info\">\n",
    "Try out different markers: \"x\", \"v\", \"o\", \"<\", \">\"\n",
    "<br>\n",
    "Can you change the color and position of lines which separate the plot?\n",
    "</div>"
   ]
  },
  {
   "cell_type": "code",
   "execution_count": null,
   "metadata": {},
   "outputs": [],
   "source": []
  },
  {
   "cell_type": "markdown",
   "metadata": {},
   "source": [
    "Besides of __plot()__ there are other functions like __scatter()__ which produces single points for each pair of data."
   ]
  },
  {
   "cell_type": "code",
   "execution_count": null,
   "metadata": {},
   "outputs": [],
   "source": [
    "# random data for scatter plot\n",
    "xdata = np.random.random(100)\n",
    "ydata = np.random.random(100)"
   ]
  },
  {
   "cell_type": "code",
   "execution_count": null,
   "metadata": {},
   "outputs": [],
   "source": []
  },
  {
   "cell_type": "code",
   "execution_count": null,
   "metadata": {},
   "outputs": [],
   "source": [
    "# random data for bar plot\n",
    "xdata = np.arange(10)\n",
    "ydata = np.random.random(10)\n",
    "yerr  = ydata * 0.2"
   ]
  },
  {
   "cell_type": "code",
   "execution_count": null,
   "metadata": {},
   "outputs": [],
   "source": []
  },
  {
   "cell_type": "code",
   "execution_count": null,
   "metadata": {},
   "outputs": [],
   "source": [
    "xdata = np.arange(0.0, 5.0, 0.01)\n",
    "ydata = np.cos(2*np.pi*xdata)\n",
    "\n",
    "plt.plot(xdata, ydata, lw=2)\n",
    "\n",
    "plt.annotate('local max', xy=(2, 1), xytext=(3, 1.5),         # add a text label at position x=3, y=1.5\n",
    "             arrowprops=dict(facecolor='black', shrink=0.05), # and draw an arrow to x=2, y=1\n",
    "             )\n",
    "\n",
    "plt.ylim(-2, 2) # set range of y-Axis"
   ]
  },
  {
   "cell_type": "markdown",
   "metadata": {},
   "source": [
    "<div class=\"alert alert-block alert-info\">\n",
    "Load the content of `sample1.dat` with `np.loadtxt`. Display this data by plotting it in an appropriate way. Add a horizontal line at 0 to illustrate the x-Axis. \n",
    "</div>"
   ]
  },
  {
   "cell_type": "code",
   "execution_count": null,
   "metadata": {},
   "outputs": [],
   "source": []
  },
  {
   "cell_type": "markdown",
   "metadata": {},
   "source": [
    "## Advanced Plotting"
   ]
  },
  {
   "cell_type": "markdown",
   "metadata": {},
   "source": [
    "![A matplotlib plot](matplotlib_anatomy.png)"
   ]
  },
  {
   "cell_type": "code",
   "execution_count": null,
   "metadata": {},
   "outputs": [],
   "source": [
    "# some data to plot\n",
    "xdata = np.arange(0, 10, 0.2)\n",
    "ydata1 = np.sin(xdata)\n",
    "ydata2 = np.cos(xdata)"
   ]
  },
  {
   "cell_type": "code",
   "execution_count": null,
   "metadata": {},
   "outputs": [],
   "source": []
  },
  {
   "cell_type": "markdown",
   "metadata": {},
   "source": [
    "### Subplots"
   ]
  },
  {
   "cell_type": "code",
   "execution_count": null,
   "metadata": {},
   "outputs": [],
   "source": []
  },
  {
   "cell_type": "code",
   "execution_count": null,
   "metadata": {},
   "outputs": [],
   "source": [
    "# load data from file: three \"clouds\" and plot\n",
    "data = np.loadtxt('sample2.dat')\n",
    "xdata = data[:,0]\n",
    "ydata = data[:,1]\n",
    "\n",
    "# prepare subplots\n",
    "fig = plt.figure(figsize=(10,5))\n",
    "ax1 = fig.add_subplot(121)\n",
    "ax2 = fig.add_subplot(122)\n",
    "\n",
    "# plot data\n",
    "scatter = ax1.scatter(xdata, ydata, marker='.')\n",
    "hist = ax2.hist2d(xdata, ydata, bins=100, normed=True)\n",
    "\n",
    "cb = plt.colorbar(hist[3])\n",
    "cb.set_label(\"Propensity\", fontsize=16)\n",
    "\n",
    "# add some titles\n",
    "ax1.set_title(\"Scatter Plot\")\n",
    "ax2.set_title(\"Histogram of Data\")\n",
    "\n",
    "# add some labels\n",
    "ax1.set_xlabel(\"dim 1\", fontsize=16)\n",
    "ax1.set_ylabel(\"dim 2\", fontsize=16)\n",
    "\n",
    "plt.show()"
   ]
  },
  {
   "cell_type": "code",
   "execution_count": null,
   "metadata": {},
   "outputs": [],
   "source": []
  },
  {
   "cell_type": "code",
   "execution_count": null,
   "metadata": {},
   "outputs": [],
   "source": []
  },
  {
   "cell_type": "markdown",
   "metadata": {},
   "source": [
    "### Images"
   ]
  },
  {
   "cell_type": "code",
   "execution_count": null,
   "metadata": {},
   "outputs": [],
   "source": []
  },
  {
   "cell_type": "code",
   "execution_count": null,
   "metadata": {},
   "outputs": [],
   "source": [
    "# plot an image\n",
    "fig = plt.figure(figsize=(7,10))\n",
    "ax  = fig.add_subplot(111)\n",
    "\n",
    "ax.imshow(image)"
   ]
  },
  {
   "cell_type": "code",
   "execution_count": null,
   "metadata": {},
   "outputs": [],
   "source": []
  },
  {
   "cell_type": "markdown",
   "metadata": {},
   "source": [
    "<div class=\"alert alert-block alert-info\">\n",
    "Add a for loop around `ax.axhline` so that a horizontal line is added at y=[10, 20, ... , 90]. Add a second for loop to plot a vertical line at x=[10, 20, ... , 90].\n",
    "</div>"
   ]
  },
  {
   "cell_type": "code",
   "execution_count": null,
   "metadata": {},
   "outputs": [],
   "source": []
  },
  {
   "cell_type": "markdown",
   "metadata": {},
   "source": [
    "### Inset"
   ]
  },
  {
   "cell_type": "markdown",
   "metadata": {},
   "source": [
    "Let's say you want to show your data in form of an inlet in a picture and not as a second plot. Therefor, we first need to create our data:"
   ]
  },
  {
   "cell_type": "code",
   "execution_count": null,
   "metadata": {},
   "outputs": [],
   "source": [
    "# generate the data\n",
    "A     = 10\n",
    "mu    = 40\n",
    "sigma = 2\n",
    "xdata = np.linspace(0,100,1000)\n",
    "ydata  = A*np.exp(-(xdata-mu)**2/2/sigma**2)\n",
    "\n",
    "plt.plot(xdata, ydata)"
   ]
  },
  {
   "cell_type": "markdown",
   "metadata": {},
   "source": [
    "Now we can put things together and add this plot in the picture as an inlet. We can do this be defining an axes object at a new location inside of the plot, then plotting the data in this new axes."
   ]
  },
  {
   "cell_type": "code",
   "execution_count": null,
   "metadata": {},
   "outputs": [],
   "source": [
    "image = imread(\"./Polio_EM_PHIL_1875_lores.png\")\n",
    "\n",
    "fig = plt.figure(figsize=(7,10))\n",
    "ax  = fig.add_subplot(111)\n",
    "\n",
    "ax.imshow(image,                           # data\n",
    "          origin='bottom',                 # position of the origin\n",
    "          extent=(0,72,0,100),             # axes min&max\n",
    "          ) \n",
    "\n",
    "sub_axes = plt.axes([.6, .6, .25, .25]) # location for the zoomed portion \n",
    "sub_axes.plot(xdata, ydata)             # plot the inset\n",
    "\n",
    "# turn off the visibility of the axes (so we dont see labels)\n",
    "sub_axes.axes.get_xaxis().set_visible(False) # turn of the x axis of the subplot\n",
    "sub_axes.axes.get_yaxis().set_visible(False) # turn of the y axis of the subplot"
   ]
  },
  {
   "cell_type": "markdown",
   "metadata": {},
   "source": [
    "# Bonus: image recognicion\n",
    "\n",
    "For this tutorial you need an addition package.\n",
    "1. Go to the anaconda-navigator and click on **Environments** on the left menu.\n",
    "2. Select **all** in the dropdown menu (Default is **Installed**)\n",
    "3. type **cv** in the search\n",
    "4. install **opencv**\n",
    "\n",
    "Note: You need an web connection for this."
   ]
  },
  {
   "cell_type": "markdown",
   "metadata": {},
   "source": [
    "We want to find all coins in `mario.png`, **mark** them and **count** them.\n",
    "\n",
    "\n",
    "a coin looks like: `mario_coin.png`\n",
    "![mario_coin](./mario_coin.png)\n",
    "and the picture is: `mario.png`\n",
    "![mario](./mario.png)\n",
    "\n"
   ]
  },
  {
   "cell_type": "code",
   "execution_count": null,
   "metadata": {},
   "outputs": [],
   "source": [
    "import cv2\n",
    "import numpy as np\n",
    "from matplotlib import pyplot as plt\n",
    "\n",
    "img_rgb = cv2.imread('mario.png')\n",
    "img_gray = cv2.cvtColor(img_rgb, cv2.COLOR_BGR2GRAY)\n",
    "template = cv2.imread('mario_coin.png',0)\n",
    "w, h = template.shape[::-1]\n",
    "\n",
    "res = cv2.matchTemplate(img_gray,template,cv2.TM_CCOEFF_NORMED)\n",
    "threshold = 0.8\n",
    "loc = np.where( res >= threshold)\n",
    "for pt in zip(*loc[::-1]):\n",
    "    cv2.rectangle(img_rgb, pt, (pt[0] + w, pt[1] + h), (0,0,255), 2)\n",
    "\n",
    "print(\"Found {} coins\".format(len(loc[0])))\n",
    "cv2.imwrite('res.png',img_rgb)"
   ]
  },
  {
   "cell_type": "markdown",
   "metadata": {},
   "source": [
    "Lets have a look at the resulting pictures (Look in the folders, or just load them into jupyter notebook)"
   ]
  },
  {
   "cell_type": "code",
   "execution_count": null,
   "metadata": {},
   "outputs": [],
   "source": [
    "from PIL import Image\n",
    "org = Image.open(\"mario.png\")\n",
    "rec = Image.open(\"res.png\")\n",
    "fix, axes = plt.subplots(ncols=2)\n",
    "axes[0].imshow(org)\n",
    "axes[1].imshow(rec)"
   ]
  },
  {
   "cell_type": "code",
   "execution_count": null,
   "metadata": {},
   "outputs": [],
   "source": []
  }
 ],
 "metadata": {
  "kernelspec": {
   "display_name": "Python 3",
   "language": "python",
   "name": "python3"
  },
  "language_info": {
   "codemirror_mode": {
    "name": "ipython",
    "version": 3
   },
   "file_extension": ".py",
   "mimetype": "text/x-python",
   "name": "python",
   "nbconvert_exporter": "python",
   "pygments_lexer": "ipython3",
   "version": "3.5.2"
  },
  "toc": {
   "base_numbering": 1,
   "nav_menu": {},
   "number_sections": true,
   "sideBar": true,
   "skip_h1_title": false,
   "title_cell": "Table of Contents",
   "title_sidebar": "Contents",
   "toc_cell": false,
   "toc_position": {},
   "toc_section_display": true,
   "toc_window_display": false
  }
 },
 "nbformat": 4,
 "nbformat_minor": 2
}
