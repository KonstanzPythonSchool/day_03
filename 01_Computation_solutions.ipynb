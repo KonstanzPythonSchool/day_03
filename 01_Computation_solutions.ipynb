{
 "cells": [
  {
   "cell_type": "markdown",
   "metadata": {},
   "source": [
    "# Session 3.1: Computation\n",
    "One mayor strength of Python is, that it works with modules. This means, that additional data types, functions, etc. can be made available by simply importing existing modules. Those modules are in general written by other python users. Due to the large number of python users, there is an enormous amount of python modules available. We had seen some of them already:\n",
    "\n",
    "* os (Miscellaneous operating system interfaces)\n",
    "* sys (Access system-specific parameters and functions)\n",
    "* math (Mathematical functions (sin() etc.))\n",
    "\n",
    "In this part we will focus on three other also very popular modules for scientific use:\n",
    "\n",
    "* numpy (Fundamental package for scientific computing with Python) http://www.numpy.org/\n",
    "* scipy (Scientific Computing Tools for Python) https://www.scipy.org/\n",
    "* pandas (Python Data Analysis Library) https://pandas.pydata.org/"
   ]
  },
  {
   "cell_type": "markdown",
   "metadata": {},
   "source": [
    "## Numpy"
   ]
  },
  {
   "cell_type": "markdown",
   "metadata": {},
   "source": [
    "A `numpy array` is a grid of values, _all of the same type_, and is indexed by a tuple of nonnegative integers. Let us import numpy module and see how it works. For modules like numpy it is good practice to import them with a different, shorter name. (Most of the examples you will find on the web use \"np\", therefore copy and paste works faster if you use this convention. "
   ]
  },
  {
   "cell_type": "code",
   "execution_count": 1,
   "metadata": {},
   "outputs": [],
   "source": [
    "#@solution\n",
    "import numpy as np"
   ]
  },
  {
   "cell_type": "code",
   "execution_count": 2,
   "metadata": {},
   "outputs": [
    {
     "data": {
      "text/plain": [
       "array([1, 2, 3, 4])"
      ]
     },
     "execution_count": 2,
     "metadata": {},
     "output_type": "execute_result"
    }
   ],
   "source": [
    "#@solution\n",
    "a = np.array([1,2,3,4])\n",
    "a"
   ]
  },
  {
   "cell_type": "markdown",
   "metadata": {},
   "source": [
    "Numpy provides many functions to create arrays:"
   ]
  },
  {
   "cell_type": "code",
   "execution_count": 3,
   "metadata": {},
   "outputs": [],
   "source": [
    "a = np.arange(18)     # Return 18 evenly spaced values\n",
    "b = np.zeros((2,2))   # Create an array of all zeros\n",
    "c = np.ones((1,2))    # Create an array of all ones\n",
    "d = np.full((2,2), 7)  # Create a constant array\n",
    "e = np.eye(2)         # Create a 2x2 identity matrix\n",
    "f = np.random.random((2,2))  # Create an array filled with random values"
   ]
  },
  {
   "cell_type": "markdown",
   "metadata": {},
   "source": [
    "<div class=\"alert alert-block alert-info\">\n",
    "Print some of those arrays to see, what is the difference.\n",
    "</div>"
   ]
  },
  {
   "cell_type": "code",
   "execution_count": 4,
   "metadata": {},
   "outputs": [
    {
     "name": "stdout",
     "output_type": "stream",
     "text": [
      "[ 0  1  2  3  4  5  6  7  8  9 10 11 12 13 14 15 16 17]\n",
      "[[0. 0.]\n",
      " [0. 0.]]\n",
      "[[1. 1.]]\n",
      "[[7 7]\n",
      " [7 7]]\n",
      "[[1. 0.]\n",
      " [0. 1.]]\n",
      "[[0.80113824 0.12451937]\n",
      " [0.48666683 0.54618859]]\n"
     ]
    }
   ],
   "source": [
    "#@solution\n",
    "print(a)\n",
    "print(b)\n",
    "print(c)\n",
    "print(d)\n",
    "print(e)\n",
    "print(f)"
   ]
  },
  {
   "cell_type": "markdown",
   "metadata": {},
   "source": [
    "Numpy arrays has number of advantages compared to lists regarding mathematical operations, indexing, data loading and saving, etc. First of all, an array has to important attributes:"
   ]
  },
  {
   "cell_type": "markdown",
   "metadata": {},
   "source": [
    "- **ndim**: number of dimensions, rank of array\n",
    "- **size**: total number of elements\n",
    "- **shape**: number of elements in each dimension"
   ]
  },
  {
   "cell_type": "code",
   "execution_count": 5,
   "metadata": {},
   "outputs": [
    {
     "name": "stdout",
     "output_type": "stream",
     "text": [
      "[ 0  1  2  3  4  5  6  7  8  9 10 11 12 13 14 15 16 17]\n",
      "dims: 1\n",
      "size: 18\n",
      "shape: (18,)\n"
     ]
    }
   ],
   "source": [
    "print(a)\n",
    "print(\"dims:\", a.ndim)\n",
    "print(\"size:\", a.size)\n",
    "print(\"shape:\", a.shape)"
   ]
  },
  {
   "cell_type": "code",
   "execution_count": 6,
   "metadata": {},
   "outputs": [
    {
     "name": "stdout",
     "output_type": "stream",
     "text": [
      "[[0.80113824 0.12451937]\n",
      " [0.48666683 0.54618859]]\n",
      "dims: 2\n",
      "size: 4\n",
      "shape: (2, 2)\n"
     ]
    }
   ],
   "source": [
    "print(f)\n",
    "print(\"dims:\", f.ndim)\n",
    "print(\"size:\", f.size)\n",
    "print(\"shape:\", f.shape)"
   ]
  },
  {
   "cell_type": "markdown",
   "metadata": {},
   "source": [
    "### Indexing"
   ]
  },
  {
   "cell_type": "markdown",
   "metadata": {},
   "source": [
    "Indexing with arrays works quite similar compared to lists."
   ]
  },
  {
   "cell_type": "code",
   "execution_count": 7,
   "metadata": {},
   "outputs": [
    {
     "name": "stdout",
     "output_type": "stream",
     "text": [
      "[ 0  1  2  3  4  5  6  7  8  9 10 11 12 13 14 15 16 17]\n",
      "0\n",
      "17\n",
      "[0 1 2 3]\n",
      "[14 15 16 17]\n",
      "[1 2 3]\n",
      "[ 0  2  4  6  8 10 12 14 16]\n",
      "[ 0  1  2  3  4  5  6  7  8  9 10 11 12 13 14 15 16 17]\n",
      "[17 16 15 14 13 12 11 10  9  8  7  6  5  4  3  2  1  0]\n"
     ]
    }
   ],
   "source": [
    "print(a)\n",
    "\n",
    "print(a[0])   # first element\n",
    "print(a[-1])  # last element\n",
    "\n",
    "print(a[:4])  # the first four elements\n",
    "print(a[-4:])  # the last four elements\n",
    "\n",
    "print(a[1:4]) # slice of elements from index 1 to (not including) index 4\n",
    "print(a[::2]) # every second element\n",
    "\n",
    "print(a[::])   # all elements\n",
    "print(a[::-1]) # all elements in reversed order"
   ]
  },
  {
   "cell_type": "markdown",
   "metadata": {},
   "source": [
    "As you have seen arrays can have more than one dimension. Dimensions are also called \"axis\" in numpy. You can also change it dimensionality by calling `.reshape()`. "
   ]
  },
  {
   "cell_type": "code",
   "execution_count": 8,
   "metadata": {},
   "outputs": [
    {
     "name": "stdout",
     "output_type": "stream",
     "text": [
      "Array a:\n",
      " [ 0  1  2  3  4  5  6  7  8  9 10 11 12 13 14 15 16 17]\n",
      "Size of a: 18\n",
      "Shape of a: (18,)\n"
     ]
    }
   ],
   "source": [
    "a = np.arange(18)     # Return 18 evenly spaced values\n",
    "print(\"Array a:\\n\", a)\n",
    "print(\"Size of a:\", a.size)\n",
    "print(\"Shape of a:\", a.shape)"
   ]
  },
  {
   "cell_type": "code",
   "execution_count": 9,
   "metadata": {},
   "outputs": [
    {
     "name": "stdout",
     "output_type": "stream",
     "text": [
      "Array a:\n",
      " [[ 0  1  2]\n",
      " [ 3  4  5]\n",
      " [ 6  7  8]\n",
      " [ 9 10 11]\n",
      " [12 13 14]\n",
      " [15 16 17]]\n",
      "Size of a: 18\n",
      "Shape of a: (6, 3)\n"
     ]
    }
   ],
   "source": [
    "#@solution\n",
    "a = np.arange(18)     # Return 18 evenly spaced values\n",
    "a = a.reshape((6,3))  # reshape\n",
    "print(\"Array a:\\n\", a)\n",
    "print(\"Size of a:\", a.size)\n",
    "print(\"Shape of a:\", a.shape)"
   ]
  },
  {
   "cell_type": "markdown",
   "metadata": {},
   "source": [
    "Indexing for high-dimensional arrays changes a little bit."
   ]
  },
  {
   "cell_type": "code",
   "execution_count": 10,
   "metadata": {},
   "outputs": [
    {
     "name": "stdout",
     "output_type": "stream",
     "text": [
      "[[ 0  1  2  3]\n",
      " [ 4  5  6  7]\n",
      " [ 8  9 10 11]\n",
      " [12 13 14 15]]\n"
     ]
    }
   ],
   "source": [
    "a2 = np.arange(16).reshape((4,4)) # 4x4 matrix\n",
    "print(a2)"
   ]
  },
  {
   "cell_type": "code",
   "execution_count": 11,
   "metadata": {},
   "outputs": [
    {
     "name": "stdout",
     "output_type": "stream",
     "text": [
      "0\n",
      "15\n",
      "--\n",
      "[0 1 2 3]\n",
      "[0 1 2 3]\n",
      "--\n",
      "[ 0  4  8 12]\n",
      "[ 3  7 11 15]\n",
      "--\n",
      "[[0 1]\n",
      " [4 5]]\n",
      "[[10 11]\n",
      " [14 15]]\n",
      "--\n",
      "[ 0  5 10 15]\n"
     ]
    }
   ],
   "source": [
    "print(a2[0,0])    # first row, first element\n",
    "print(a2[-1,-1])  # last row, last element\n",
    "print(\"--\")\n",
    "print(a2[0])      # firs row\n",
    "print(a2[0,:])    # first row as well\n",
    "print(\"--\")\n",
    "print(a2[:,0])    # first column\n",
    "print(a2[:,-1])   # last column\n",
    "print(\"--\")\n",
    "print(a2[:2,:2])   # upper left 2x2 part of matrix\n",
    "print(a2[-2:,-2:]) # lower right 2x2 part of matrix\n",
    "print(\"--\")\n",
    "print(a2.diagonal())"
   ]
  },
  {
   "cell_type": "markdown",
   "metadata": {},
   "source": [
    "<div class=\"alert alert-block alert-info\">\n",
    "Try to get the diagonal of the upper left 3x3 part of the original 4x4 matrix. Use `.diagonal()` for that. Use a cell below.\n",
    "</div>"
   ]
  },
  {
   "cell_type": "code",
   "execution_count": 12,
   "metadata": {},
   "outputs": [
    {
     "name": "stdout",
     "output_type": "stream",
     "text": [
      "[ 0  5 10]\n"
     ]
    }
   ],
   "source": [
    "#@solution\n",
    "print(a2[:3,:3].diagonal())"
   ]
  },
  {
   "cell_type": "markdown",
   "metadata": {},
   "source": [
    "### Basic operations"
   ]
  },
  {
   "cell_type": "code",
   "execution_count": 13,
   "metadata": {},
   "outputs": [
    {
     "data": {
      "text/plain": [
       "array([0, 1, 2, 3, 4])"
      ]
     },
     "execution_count": 13,
     "metadata": {},
     "output_type": "execute_result"
    }
   ],
   "source": [
    "#@solution\n",
    "a = np.arange(5)\n",
    "a"
   ]
  },
  {
   "cell_type": "code",
   "execution_count": 14,
   "metadata": {},
   "outputs": [
    {
     "name": "stdout",
     "output_type": "stream",
     "text": [
      "[1 2 3 4 5]\n",
      "[0 2 4 6 8]\n",
      "[ 0  1  4  9 16]\n"
     ]
    }
   ],
   "source": [
    "#@solution\n",
    "print(a + 1)   # add 1 to each element\n",
    "print(a + a)   # add element wise\n",
    "print(a * a)   # multiply element wise"
   ]
  },
  {
   "cell_type": "code",
   "execution_count": 15,
   "metadata": {},
   "outputs": [
    {
     "data": {
      "text/plain": [
       "array([0. , 0.1, 0.4, 0.9, 1.6])"
      ]
     },
     "execution_count": 15,
     "metadata": {},
     "output_type": "execute_result"
    }
   ],
   "source": [
    "#@solution\n",
    "b = np.arange(0.0, 0.5, 0.1)\n",
    "a * b   # multiply element wise"
   ]
  },
  {
   "cell_type": "markdown",
   "metadata": {},
   "source": [
    "Arrays allow you a very intuitive use of calculations on large data sets. Let's assume you want to calculate $f(x)$ given that\n",
    "\n",
    "$f(x) = \\dfrac{a \\cdot b \\cdot t}{x}$"
   ]
  },
  {
   "cell_type": "code",
   "execution_count": 16,
   "metadata": {},
   "outputs": [
    {
     "data": {
      "text/plain": [
       "array([1. , 1.1, 1.2, 1.3, 1.4, 1.5, 1.6, 1.7, 1.8, 1.9, 2. , 2.1, 2.2,\n",
       "       2.3, 2.4, 2.5, 2.6, 2.7, 2.8, 2.9, 3. , 3.1, 3.2, 3.3, 3.4, 3.5,\n",
       "       3.6, 3.7, 3.8, 3.9, 4. , 4.1, 4.2, 4.3, 4.4, 4.5, 4.6, 4.7, 4.8,\n",
       "       4.9, 5. , 5.1, 5.2, 5.3, 5.4, 5.5, 5.6, 5.7, 5.8, 5.9, 6. , 6.1,\n",
       "       6.2, 6.3, 6.4, 6.5, 6.6, 6.7, 6.8, 6.9, 7. , 7.1, 7.2, 7.3, 7.4,\n",
       "       7.5, 7.6, 7.7, 7.8, 7.9, 8. , 8.1, 8.2, 8.3, 8.4, 8.5, 8.6, 8.7,\n",
       "       8.8, 8.9, 9. , 9.1, 9.2, 9.3, 9.4, 9.5, 9.6, 9.7, 9.8, 9.9])"
      ]
     },
     "execution_count": 16,
     "metadata": {},
     "output_type": "execute_result"
    }
   ],
   "source": [
    "a = 1.0\n",
    "b = 300\n",
    "t = 3.14\n",
    "x = np.arange(1.0, 10.0, 0.1) # arange numbers from 1 to 10 in steps of 0.1 (is 10 included?)\n",
    "x"
   ]
  },
  {
   "cell_type": "markdown",
   "metadata": {},
   "source": [
    "<div class=\"alert alert-block alert-info\">\n",
    "Calculate $f(x)$ according to the formula.\n",
    "</div>"
   ]
  },
  {
   "cell_type": "code",
   "execution_count": 17,
   "metadata": {},
   "outputs": [
    {
     "data": {
      "text/plain": [
       "array([942.        , 856.36363636, 785.        , 724.61538462,\n",
       "       672.85714286, 628.        , 588.75      , 554.11764706,\n",
       "       523.33333333, 495.78947368, 471.        , 448.57142857,\n",
       "       428.18181818, 409.56521739, 392.5       , 376.8       ,\n",
       "       362.30769231, 348.88888889, 336.42857143, 324.82758621,\n",
       "       314.        , 303.87096774, 294.375     , 285.45454545,\n",
       "       277.05882353, 269.14285714, 261.66666667, 254.59459459,\n",
       "       247.89473684, 241.53846154, 235.5       , 229.75609756,\n",
       "       224.28571429, 219.06976744, 214.09090909, 209.33333333,\n",
       "       204.7826087 , 200.42553191, 196.25      , 192.24489796,\n",
       "       188.4       , 184.70588235, 181.15384615, 177.73584906,\n",
       "       174.44444444, 171.27272727, 168.21428571, 165.26315789,\n",
       "       162.4137931 , 159.66101695, 157.        , 154.42622951,\n",
       "       151.93548387, 149.52380952, 147.1875    , 144.92307692,\n",
       "       142.72727273, 140.59701493, 138.52941176, 136.52173913,\n",
       "       134.57142857, 132.67605634, 130.83333333, 129.04109589,\n",
       "       127.2972973 , 125.6       , 123.94736842, 122.33766234,\n",
       "       120.76923077, 119.24050633, 117.75      , 116.2962963 ,\n",
       "       114.87804878, 113.4939759 , 112.14285714, 110.82352941,\n",
       "       109.53488372, 108.27586207, 107.04545455, 105.84269663,\n",
       "       104.66666667, 103.51648352, 102.39130435, 101.29032258,\n",
       "       100.21276596,  99.15789474,  98.125     ,  97.11340206,\n",
       "        96.12244898,  95.15151515])"
      ]
     },
     "execution_count": 17,
     "metadata": {},
     "output_type": "execute_result"
    }
   ],
   "source": [
    "#@solution\n",
    "f_x = (a * b * t) / x\n",
    "f_x"
   ]
  },
  {
   "cell_type": "markdown",
   "metadata": {},
   "source": [
    "Numpy has also build in some usefull mathematical functions."
   ]
  },
  {
   "cell_type": "code",
   "execution_count": 18,
   "metadata": {},
   "outputs": [
    {
     "data": {
      "text/plain": [
       "array([0.        , 0.06411414, 0.12822827, 0.19234241, 0.25645654,\n",
       "       0.32057068, 0.38468481, 0.44879895, 0.51291309, 0.57702722,\n",
       "       0.64114136, 0.70525549, 0.76936963, 0.83348377, 0.8975979 ,\n",
       "       0.96171204, 1.02582617, 1.08994031, 1.15405444, 1.21816858,\n",
       "       1.28228272, 1.34639685, 1.41051099, 1.47462512, 1.53873926,\n",
       "       1.60285339, 1.66696753, 1.73108167, 1.7951958 , 1.85930994,\n",
       "       1.92342407, 1.98753821, 2.05165235, 2.11576648, 2.17988062,\n",
       "       2.24399475, 2.30810889, 2.37222302, 2.43633716, 2.5004513 ,\n",
       "       2.56456543, 2.62867957, 2.6927937 , 2.75690784, 2.82102197,\n",
       "       2.88513611, 2.94925025, 3.01336438, 3.07747852, 3.14159265])"
      ]
     },
     "execution_count": 18,
     "metadata": {},
     "output_type": "execute_result"
    }
   ],
   "source": [
    "#@solution\n",
    "x = np.linspace(0.0, np.pi, 50) # arange 50 numbers from 0 to pi (includes pi=3.141)\n",
    "x"
   ]
  },
  {
   "cell_type": "code",
   "execution_count": 19,
   "metadata": {},
   "outputs": [
    {
     "data": {
      "text/plain": [
       "array([ 1.        ,  1.06621409,  1.13681248,  1.21208547,  1.2923426 ,\n",
       "        1.37791389,  1.46915119,  1.5664297 ,  1.6701494 ,  1.78073682,\n",
       "        1.89864668,  2.02436383,  2.15840523,  2.30132206,  2.45370199,\n",
       "        2.61617162,  2.78939903,  2.97409654,  3.17102362,  3.38099005,\n",
       "        3.60485921,  3.84355166,  4.09804892,  4.36939748,  4.65871314,\n",
       "        4.96718556,  5.29608321,  5.64675851,  6.02065346,  6.41930552,\n",
       "        6.84435396,  7.2975466 ,  7.78074697,  8.29594201,  8.84525022,\n",
       "        9.43093037, 10.0553908 , 10.7211993 , 11.4310937 , 12.18799311,\n",
       "       12.99500992, 13.85546261, 14.77288939, 15.75106274, 16.79400495,\n",
       "       17.90600462, 19.09163434, 20.35576943, 21.70360808, 23.14069263])"
      ]
     },
     "execution_count": 19,
     "metadata": {},
     "output_type": "execute_result"
    }
   ],
   "source": [
    "#@solution\n",
    "np.sin(x)\n",
    "np.cos(x)\n",
    "np.exp(x)"
   ]
  },
  {
   "cell_type": "code",
   "execution_count": 20,
   "metadata": {},
   "outputs": [
    {
     "data": {
      "image/png": "[encoded data removed]",
      "text/plain": [
       "<Figure size 432x288 with 1 Axes>"
      ]
     },
     "metadata": {},
     "output_type": "display_data"
    }
   ],
   "source": [
    "# small teaser for plotting (next session)\n",
    "import matplotlib.pyplot as plt\n",
    "%matplotlib inline\n",
    "plt.plot(x, np.sin(x))\n",
    "plt.plot(x, np.cos(x))\n",
    "plt.show()"
   ]
  },
  {
   "cell_type": "markdown",
   "metadata": {},
   "source": [
    "### Unary and Comparison Operations"
   ]
  },
  {
   "cell_type": "markdown",
   "metadata": {},
   "source": [
    "Many operations, like calculations of the sum of an array, are build in functions of the numpy array data type."
   ]
  },
  {
   "cell_type": "code",
   "execution_count": 21,
   "metadata": {},
   "outputs": [
    {
     "ename": "SyntaxError",
     "evalue": "invalid syntax (<ipython-input-21-904fd0bc4dd5>, line 2)",
     "output_type": "error",
     "traceback": [
      "\u001b[0;36m  File \u001b[0;32m\"<ipython-input-21-904fd0bc4dd5>\"\u001b[0;36m, line \u001b[0;32m2\u001b[0m\n\u001b[0;31m    print(\"Sum is\", a.)\u001b[0m\n\u001b[0m                      ^\u001b[0m\n\u001b[0;31mSyntaxError\u001b[0m\u001b[0;31m:\u001b[0m invalid syntax\n"
     ]
    }
   ],
   "source": [
    "a = np.arange(10.0)\n",
    "print(\"Sum is\", a.)\n",
    "print(\"Minimum is\", a.)\n",
    "print(\"Maximum is\", a.)\n",
    "print(\"Mean is\", a.)"
   ]
  },
  {
   "cell_type": "code",
   "execution_count": 22,
   "metadata": {},
   "outputs": [
    {
     "name": "stdout",
     "output_type": "stream",
     "text": [
      "Sum is 45.0\n",
      "Minimum is 0.0\n",
      "Maximum is 9.0\n",
      "Mean is 4.5\n"
     ]
    }
   ],
   "source": [
    "#@solution\n",
    "a = np.arange(10.0)\n",
    "print(\"Sum is\", a.sum())\n",
    "print(\"Minimum is\", a.min())\n",
    "print(\"Maximum is\", a.max())\n",
    "print(\"Mean is\", a.mean())"
   ]
  },
  {
   "cell_type": "markdown",
   "metadata": {},
   "source": [
    "If an array is used together with comparison operators, you can determine and select certain values. "
   ]
  },
  {
   "cell_type": "code",
   "execution_count": 23,
   "metadata": {},
   "outputs": [
    {
     "name": "stdout",
     "output_type": "stream",
     "text": [
      "[0. 1. 2. 3. 4. 5. 6. 7. 8. 9.]\n"
     ]
    },
    {
     "data": {
      "text/plain": [
       "array([False, False, False,  True, False, False, False, False, False,\n",
       "       False])"
      ]
     },
     "execution_count": 23,
     "metadata": {},
     "output_type": "execute_result"
    }
   ],
   "source": [
    "#@solution\n",
    "print(a)\n",
    "a == 3   # returns a so called \"mask array\""
   ]
  },
  {
   "cell_type": "code",
   "execution_count": 24,
   "metadata": {},
   "outputs": [
    {
     "data": {
      "text/plain": [
       "array([ True,  True,  True,  True, False, False, False, False, False,\n",
       "       False])"
      ]
     },
     "execution_count": 24,
     "metadata": {},
     "output_type": "execute_result"
    }
   ],
   "source": [
    "#@solution\n",
    "a <= 3"
   ]
  },
  {
   "cell_type": "markdown",
   "metadata": {},
   "source": [
    "__Masking__: Masking (boolean array indexing) lets you pick out arbitrary elements of an array. Frequently this type of indexing is used to select the elements of an array that satisfy some condition. Here is an example:"
   ]
  },
  {
   "cell_type": "code",
   "execution_count": 25,
   "metadata": {},
   "outputs": [
    {
     "data": {
      "text/plain": [
       "array([0., 1., 2., 3.])"
      ]
     },
     "execution_count": 25,
     "metadata": {},
     "output_type": "execute_result"
    }
   ],
   "source": [
    "#@solution\n",
    "mask = (a <= 3)  # let's find out why it is called mask\n",
    "a[mask]          # use the mask like you would do with an index"
   ]
  },
  {
   "cell_type": "markdown",
   "metadata": {},
   "source": [
    "Let's assume, we have some data inside of an array, that we want to analyze. We will learn, how to load such data from files, for example. For now, we fill this array with random values."
   ]
  },
  {
   "cell_type": "code",
   "execution_count": 26,
   "metadata": {},
   "outputs": [
    {
     "name": "stdout",
     "output_type": "stream",
     "text": [
      "[[0.61484522 0.60948679 0.57948836 0.59620541 0.86082005]\n",
      " [0.49207593 0.97487134 0.16967069 0.26128175 0.42853201]\n",
      " [0.78636417 0.78032968 0.09599854 0.36206412 0.4140125 ]\n",
      " [0.85933906 0.75862454 0.53568972 0.51237339 0.91173628]\n",
      " [0.37082652 0.26654139 0.50353527 0.20053564 0.27847824]\n",
      " [0.46823657 0.7113179  0.0753802  0.94362582 0.45922867]\n",
      " [0.41915385 0.52512466 0.21105486 0.42231623 0.4472481 ]\n",
      " [0.0331305  0.48334174 0.23325291 0.50027968 0.85452384]\n",
      " [0.98708555 0.97312154 0.49011814 0.98082101 0.7729632 ]\n",
      " [0.2074221  0.84670797 0.04665535 0.25693292 0.74473707]\n",
      " [0.73471083 0.10361015 0.01288288 0.8368998  0.17109415]\n",
      " [0.68666149 0.82519989 0.92431269 0.35455017 0.57540608]\n",
      " [0.1429133  0.65600171 0.25959236 0.88241541 0.62310428]\n",
      " [0.75953045 0.58716373 0.64566215 0.99291913 0.79559072]\n",
      " [0.42275166 0.09828398 0.59517685 0.4493627  0.39998825]\n",
      " [0.78764827 0.70261289 0.54669624 0.6161069  0.37501556]\n",
      " [0.5753091  0.78246813 0.38915653 0.83073821 0.79165954]\n",
      " [0.73671476 0.70089389 0.30287691 0.38063575 0.90949173]\n",
      " [0.01599377 0.12936174 0.95247192 0.31674913 0.48507858]\n",
      " [0.5937618  0.79892907 0.62389088 0.02436815 0.53397132]]\n"
     ]
    }
   ],
   "source": [
    "# create an 20x5 array with random values between 0 and 1\n",
    "data = np.random.random(100)\n",
    "data = data.reshape((20,5)) \n",
    "\n",
    "# You could also do it in one line\n",
    "# data = np.random.random(100).reshape((20,5))\n",
    "\n",
    "print(data)"
   ]
  },
  {
   "cell_type": "code",
   "execution_count": 27,
   "metadata": {},
   "outputs": [
    {
     "data": {
      "text/plain": [
       "0.5375589253375944"
      ]
     },
     "execution_count": 27,
     "metadata": {},
     "output_type": "execute_result"
    }
   ],
   "source": [
    "#@solution\n",
    "data.mean()  # which mean value would you expect?"
   ]
  },
  {
   "cell_type": "code",
   "execution_count": 28,
   "metadata": {},
   "outputs": [
    {
     "data": {
      "text/plain": [
       "0.28244898106355265"
      ]
     },
     "execution_count": 28,
     "metadata": {},
     "output_type": "execute_result"
    }
   ],
   "source": [
    "#@solution\n",
    "data[data <= 0.5].mean()"
   ]
  },
  {
   "cell_type": "code",
   "execution_count": 29,
   "metadata": {},
   "outputs": [
    {
     "data": {
      "text/plain": [
       "0.7380024529814843"
      ]
     },
     "execution_count": 29,
     "metadata": {},
     "output_type": "execute_result"
    }
   ],
   "source": [
    "#@solution\n",
    "data[data > 0.5].mean()"
   ]
  },
  {
   "cell_type": "markdown",
   "metadata": {},
   "source": [
    "In 2D arrays you can decide if you want to perform calculations on the whole data set or row or column wise."
   ]
  },
  {
   "cell_type": "code",
   "execution_count": 30,
   "metadata": {},
   "outputs": [
    {
     "data": {
      "text/plain": [
       "array([0.65216917, 0.46528634, 0.4877538 , 0.7155526 , 0.32398341,\n",
       "       0.53155783, 0.40497954, 0.42090573, 0.84082189, 0.42049108,\n",
       "       0.37183956, 0.67322606, 0.51280541, 0.75617324, 0.39311269,\n",
       "       0.60561597, 0.6738663 , 0.60612261, 0.37993103, 0.51498425])"
      ]
     },
     "execution_count": 30,
     "metadata": {},
     "output_type": "execute_result"
    }
   ],
   "source": [
    "#@solution\n",
    "data.mean(axis=0)\n",
    "data.mean(axis=1)"
   ]
  },
  {
   "cell_type": "markdown",
   "metadata": {},
   "source": [
    "<div class=\"alert alert-block alert-info\">\n",
    "Get the range of values (min-max) for each column of this dummy data set.\n",
    "</div>"
   ]
  },
  {
   "cell_type": "code",
   "execution_count": 31,
   "metadata": {},
   "outputs": [
    {
     "name": "stdout",
     "output_type": "stream",
     "text": [
      "[0.01599377 0.09828398 0.01288288 0.02436815 0.17109415]\n",
      "[0.98708555 0.97487134 0.95247192 0.99291913 0.91173628]\n"
     ]
    }
   ],
   "source": [
    "#@solution\n",
    "print(data.min(axis=0))\n",
    "print(data.max(axis=0))"
   ]
  },
  {
   "cell_type": "markdown",
   "metadata": {},
   "source": [
    "### Save and Load"
   ]
  },
  {
   "cell_type": "markdown",
   "metadata": {},
   "source": [
    "If we want to save and load some arrays, we can use the functions provided by `numpy`.\n",
    "\n",
    "You can find details: \n",
    "* [numpy docs: savetxt](https://docs.scipy.org/doc/numpy-1.14.0/reference/generated/numpy.savetxt.html)\n",
    "* [numpy docs: loadtxt](https://docs.scipy.org/doc/numpy-1.15.0/reference/generated/numpy.loadtxt.html)\n"
   ]
  },
  {
   "cell_type": "code",
   "execution_count": 32,
   "metadata": {},
   "outputs": [],
   "source": [
    "np.savetxt(\"my_first_data.txt\", data)"
   ]
  },
  {
   "cell_type": "code",
   "execution_count": 33,
   "metadata": {},
   "outputs": [
    {
     "data": {
      "text/plain": [
       "array([[0.61484522, 0.60948679, 0.57948836, 0.59620541, 0.86082005],\n",
       "       [0.49207593, 0.97487134, 0.16967069, 0.26128175, 0.42853201],\n",
       "       [0.78636417, 0.78032968, 0.09599854, 0.36206412, 0.4140125 ],\n",
       "       [0.85933906, 0.75862454, 0.53568972, 0.51237339, 0.91173628],\n",
       "       [0.37082652, 0.26654139, 0.50353527, 0.20053564, 0.27847824],\n",
       "       [0.46823657, 0.7113179 , 0.0753802 , 0.94362582, 0.45922867],\n",
       "       [0.41915385, 0.52512466, 0.21105486, 0.42231623, 0.4472481 ],\n",
       "       [0.0331305 , 0.48334174, 0.23325291, 0.50027968, 0.85452384],\n",
       "       [0.98708555, 0.97312154, 0.49011814, 0.98082101, 0.7729632 ],\n",
       "       [0.2074221 , 0.84670797, 0.04665535, 0.25693292, 0.74473707],\n",
       "       [0.73471083, 0.10361015, 0.01288288, 0.8368998 , 0.17109415],\n",
       "       [0.68666149, 0.82519989, 0.92431269, 0.35455017, 0.57540608],\n",
       "       [0.1429133 , 0.65600171, 0.25959236, 0.88241541, 0.62310428],\n",
       "       [0.75953045, 0.58716373, 0.64566215, 0.99291913, 0.79559072],\n",
       "       [0.42275166, 0.09828398, 0.59517685, 0.4493627 , 0.39998825],\n",
       "       [0.78764827, 0.70261289, 0.54669624, 0.6161069 , 0.37501556],\n",
       "       [0.5753091 , 0.78246813, 0.38915653, 0.83073821, 0.79165954],\n",
       "       [0.73671476, 0.70089389, 0.30287691, 0.38063575, 0.90949173],\n",
       "       [0.01599377, 0.12936174, 0.95247192, 0.31674913, 0.48507858],\n",
       "       [0.5937618 , 0.79892907, 0.62389088, 0.02436815, 0.53397132]])"
      ]
     },
     "execution_count": 33,
     "metadata": {},
     "output_type": "execute_result"
    }
   ],
   "source": [
    "loaded_data = np.loadtxt(\"my_first_data.txt\")\n",
    "loaded_data"
   ]
  },
  {
   "cell_type": "code",
   "execution_count": 34,
   "metadata": {},
   "outputs": [
    {
     "data": {
      "text/plain": [
       "array([[0.61484522, 0.60948679, 0.57948836, 0.59620541, 0.86082005],\n",
       "       [0.49207593, 0.97487134, 0.16967069, 0.26128175, 0.42853201],\n",
       "       [0.78636417, 0.78032968, 0.09599854, 0.36206412, 0.4140125 ],\n",
       "       [0.85933906, 0.75862454, 0.53568972, 0.51237339, 0.91173628],\n",
       "       [0.37082652, 0.26654139, 0.50353527, 0.20053564, 0.27847824],\n",
       "       [0.46823657, 0.7113179 , 0.0753802 , 0.94362582, 0.45922867],\n",
       "       [0.41915385, 0.52512466, 0.21105486, 0.42231623, 0.4472481 ],\n",
       "       [0.0331305 , 0.48334174, 0.23325291, 0.50027968, 0.85452384],\n",
       "       [0.98708555, 0.97312154, 0.49011814, 0.98082101, 0.7729632 ],\n",
       "       [0.2074221 , 0.84670797, 0.04665535, 0.25693292, 0.74473707],\n",
       "       [0.73471083, 0.10361015, 0.01288288, 0.8368998 , 0.17109415],\n",
       "       [0.68666149, 0.82519989, 0.92431269, 0.35455017, 0.57540608],\n",
       "       [0.1429133 , 0.65600171, 0.25959236, 0.88241541, 0.62310428],\n",
       "       [0.75953045, 0.58716373, 0.64566215, 0.99291913, 0.79559072],\n",
       "       [0.42275166, 0.09828398, 0.59517685, 0.4493627 , 0.39998825],\n",
       "       [0.78764827, 0.70261289, 0.54669624, 0.6161069 , 0.37501556],\n",
       "       [0.5753091 , 0.78246813, 0.38915653, 0.83073821, 0.79165954],\n",
       "       [0.73671476, 0.70089389, 0.30287691, 0.38063575, 0.90949173],\n",
       "       [0.01599377, 0.12936174, 0.95247192, 0.31674913, 0.48507858],\n",
       "       [0.5937618 , 0.79892907, 0.62389088, 0.02436815, 0.53397132]])"
      ]
     },
     "execution_count": 34,
     "metadata": {},
     "output_type": "execute_result"
    }
   ],
   "source": [
    "np.save(\"my_first_data.npy\", data)          # binary compressed data format\n",
    "loaded_data = np.load(\"my_first_data.npy\")\n",
    "loaded_data"
   ]
  },
  {
   "cell_type": "code",
   "execution_count": 35,
   "metadata": {},
   "outputs": [],
   "source": [
    "# annotated array: recarray\n",
    "loaded_data = np.genfromtxt(\"my_first_data.txt\")\n",
    "# better use pandas"
   ]
  },
  {
   "cell_type": "markdown",
   "metadata": {},
   "source": [
    "### Numpy functions\n",
    "Numpy provides already a bunch of functions which you can use for some standard tasks. Here we will only use `histogram` as a basic example. See the numpy documentation for a full list:\n",
    "\n",
    "- [Numpy functions by category](https://docs.scipy.org/doc/numpy-1.13.0/reference/)\n",
    "- [Numpy mathematical functions](https://docs.scipy.org/doc/numpy-1.13.0/reference/routines.math.html)"
   ]
  },
  {
   "cell_type": "code",
   "execution_count": 36,
   "metadata": {},
   "outputs": [
    {
     "data": {
      "text/plain": [
       "(array([ 9,  6,  8,  8, 14, 13,  8, 15,  9, 10]),\n",
       " array([0.01288288, 0.1108865 , 0.20889013, 0.30689375, 0.40489738,\n",
       "        0.50290101, 0.60090463, 0.69890826, 0.79691188, 0.89491551,\n",
       "        0.99291913]))"
      ]
     },
     "execution_count": 36,
     "metadata": {},
     "output_type": "execute_result"
    }
   ],
   "source": [
    "np.histogram(data)"
   ]
  },
  {
   "cell_type": "code",
   "execution_count": 37,
   "metadata": {},
   "outputs": [
    {
     "name": "stdout",
     "output_type": "stream",
     "text": [
      "(20,)\n",
      "(21,)\n"
     ]
    }
   ],
   "source": [
    "count, bins = np.histogram(data, bins=20)\n",
    "print(count.shape)\n",
    "print(bins.shape)"
   ]
  },
  {
   "cell_type": "code",
   "execution_count": 38,
   "metadata": {},
   "outputs": [
    {
     "name": "stdout",
     "output_type": "stream",
     "text": [
      "[0.03738378 0.0863856  0.13538741 0.18438922 0.23339104 0.28239285\n",
      " 0.33139466 0.38039647 0.42939829 0.4784001  0.52740191 0.57640372\n",
      " 0.62540554 0.67440735 0.72340916 0.77241097 0.82141279 0.8704146\n",
      " 0.91941641 0.96841823]\n",
      "(20,)\n"
     ]
    }
   ],
   "source": [
    "bin_centers = (bins[:-1] + bins[1:]) / 2.0\n",
    "print(bin_centers)\n",
    "print(bin_centers.shape)"
   ]
  },
  {
   "cell_type": "code",
   "execution_count": 39,
   "metadata": {},
   "outputs": [
    {
     "data": {
      "image/png": "[encoded data removed]",
      "text/plain": [
       "<Figure size 432x288 with 1 Axes>"
      ]
     },
     "metadata": {},
     "output_type": "display_data"
    }
   ],
   "source": [
    "plt.bar(bin_centers, count, width=0.01)\n",
    "plt.show()"
   ]
  },
  {
   "cell_type": "markdown",
   "metadata": {},
   "source": [
    "## Scipy"
   ]
  },
  {
   "cell_type": "code",
   "execution_count": 40,
   "metadata": {},
   "outputs": [],
   "source": [
    "# it is good practice to import everything at the top\n",
    "import matplotlib.pyplot as plt\n",
    "from scipy.optimize import curve_fit # this is another way to import a python function\n",
    "# we can now use curve_fit() without putting any prefix"
   ]
  },
  {
   "cell_type": "markdown",
   "metadata": {},
   "source": [
    "@#comment\n",
    "\n",
    "Scipy offers a vast amount of functions for data analysis and scientific use. We will have a look at a very common application: **Fit a function to your data**"
   ]
  },
  {
   "cell_type": "code",
   "execution_count": 41,
   "metadata": {},
   "outputs": [
    {
     "name": "stdout",
     "output_type": "stream",
     "text": [
      "[[0.         2.86253211]\n",
      " [0.08163265 2.58408736]\n",
      " [0.16326531 2.85238869]\n",
      " [0.24489796 2.20328028]\n",
      " [0.32653061 2.35505211]\n",
      " [0.40816327 2.15580098]\n",
      " [0.48979592 1.62385977]\n",
      " [0.57142857 1.51773747]\n",
      " [0.65306122 1.58460558]\n",
      " [0.73469388 1.56780331]\n",
      " [0.81632653 1.38926991]\n",
      " [0.89795918 1.23309392]\n",
      " [0.97959184 0.88831179]\n",
      " [1.06122449 1.14039132]\n",
      " [1.14285714 1.09814583]\n",
      " [1.2244898  0.58195014]\n",
      " [1.30612245 0.97957583]\n",
      " [1.3877551  1.00016637]\n",
      " [1.46938776 0.94937867]\n",
      " [1.55102041 0.88281865]\n",
      " [1.63265306 1.05904456]\n",
      " [1.71428571 0.51311865]\n",
      " [1.79591837 0.54700714]\n",
      " [1.87755102 0.66390699]\n",
      " [1.95918367 0.47465497]\n",
      " [2.04081633 0.65048962]\n",
      " [2.12244898 0.53479316]\n",
      " [2.20408163 0.44458898]\n",
      " [2.28571429 0.05609672]\n",
      " [2.36734694 0.45631037]\n",
      " [2.44897959 0.54242354]\n",
      " [2.53061224 0.93328116]\n",
      " [2.6122449  0.45668558]\n",
      " [2.69387755 0.57625432]\n",
      " [2.7755102  0.79441476]\n",
      " [2.85714286 0.58926037]\n",
      " [2.93877551 0.97314073]\n",
      " [3.02040816 0.29536801]\n",
      " [3.10204082 0.39975342]\n",
      " [3.18367347 0.53597812]\n",
      " [3.26530612 0.49927828]\n",
      " [3.34693878 0.30842097]\n",
      " [3.42857143 0.38933359]\n",
      " [3.51020408 0.9474868 ]\n",
      " [3.59183673 0.5229339 ]\n",
      " [3.67346939 0.60288646]\n",
      " [3.75510204 0.5756889 ]\n",
      " [3.83673469 0.1270815 ]\n",
      " [3.91836735 0.59254164]\n",
      " [4.         0.55991963]]\n"
     ]
    }
   ],
   "source": [
    "data = np.loadtxt(\"experimental_data.txt\")  # load data from a file\n",
    "print(data)"
   ]
  },
  {
   "cell_type": "code",
   "execution_count": 42,
   "metadata": {},
   "outputs": [],
   "source": [
    "#@solution\n",
    "xdata = data[:,0]   # get the frist column\n",
    "ydata = data[:,1]  # get the second column"
   ]
  },
  {
   "cell_type": "code",
   "execution_count": 43,
   "metadata": {
    "scrolled": true
   },
   "outputs": [
    {
     "data": {
      "image/png": "[encoded data removed]",
      "text/plain": [
       "<Figure size 432x288 with 1 Axes>"
      ]
     },
     "metadata": {},
     "output_type": "display_data"
    }
   ],
   "source": [
    "#@solution\n",
    "plt.plot(xdata, ydata)\n",
    "plt.show()"
   ]
  },
  {
   "cell_type": "markdown",
   "metadata": {},
   "source": [
    "We can see our data looks like a exponential function.\n",
    "\n",
    "Lets define a general exponential function $f(x)=a \\cdot \\exp(-b \\cdot x) + c$."
   ]
  },
  {
   "cell_type": "code",
   "execution_count": 44,
   "metadata": {},
   "outputs": [],
   "source": [
    "# This is a function declaration. \n",
    "def func(x, a, b, c):\n",
    "    \"\"\"Function we want use for fitting\"\"\"\n",
    "    return a * np.exp(-b * x) + c"
   ]
  },
  {
   "cell_type": "markdown",
   "metadata": {},
   "source": [
    "We can use `scipy` to fit the parameters of a function so it gives the best match for our dataset. The fitting can be easily done by using the `curve_fit` function of `scipy`. We have imported it already.\n",
    "To fit the function `func` we use `curve_fit` with our data and assign the results to some variables: `popt` and `pcov`. (optimal parameters and covalenz matrix of the fit)"
   ]
  },
  {
   "cell_type": "code",
   "execution_count": 45,
   "metadata": {},
   "outputs": [
    {
     "data": {
      "text/plain": [
       "array([2.55423706, 1.35190947, 0.47450618])"
      ]
     },
     "execution_count": 45,
     "metadata": {},
     "output_type": "execute_result"
    }
   ],
   "source": [
    "#@solution\n",
    "popt, pcov = curve_fit(func, xdata, ydata) # fit for the parameters a, b, c of the function func\n",
    "popt   # thats our fitted values for a, b and c"
   ]
  },
  {
   "cell_type": "code",
   "execution_count": 46,
   "metadata": {},
   "outputs": [
    {
     "data": {
      "text/plain": [
       "<matplotlib.legend.Legend at 0x7f19698ea0b8>"
      ]
     },
     "execution_count": 46,
     "metadata": {},
     "output_type": "execute_result"
    },
    {
     "data": {
      "image/png": "[encoded data removed]",
      "text/plain": [
       "<Figure size 432x288 with 1 Axes>"
      ]
     },
     "metadata": {},
     "output_type": "display_data"
    }
   ],
   "source": [
    "# let's have a look at the fit\n",
    "%matplotlib inline\n",
    "plt.scatter(xdata, ydata, label='data')\n",
    "\n",
    "plt.plot(xdata,\n",
    "         func(xdata, *popt ), \n",
    "         'r-', \n",
    "         label='fit: a=%5.3f, b=%5.3f, c=%5.3f' % tuple(popt))\n",
    "\n",
    "plt.legend()"
   ]
  },
  {
   "cell_type": "markdown",
   "metadata": {},
   "source": [
    "From theory we know that we have some constraints to our function. We can easily also put them in `curve_fit` using the argument `bounds=( list(lowerbounds), list(upperbounds) )`."
   ]
  },
  {
   "cell_type": "code",
   "execution_count": 47,
   "metadata": {},
   "outputs": [],
   "source": [
    "#@solution\n",
    "# Constrain the optimization to the region of 0 <= a <= 3, 0 <= b <= 1 and 0 <= c <= 0.5\n",
    "popt, pcov = curve_fit(func, xdata, ydata, bounds=([0,0,0], [3., 1., 0.5]))"
   ]
  },
  {
   "cell_type": "markdown",
   "metadata": {},
   "source": [
    "## Pandas\n",
    "The pandas module helps you to arrange and treat your data like tables. You have also the posibility to import and export your data from various different formats (CSV for example which is also compatible with Exel)."
   ]
  },
  {
   "cell_type": "code",
   "execution_count": 48,
   "metadata": {},
   "outputs": [],
   "source": [
    "import pandas as pd"
   ]
  },
  {
   "cell_type": "markdown",
   "metadata": {},
   "source": [
    "### Basics"
   ]
  },
  {
   "cell_type": "code",
   "execution_count": 49,
   "metadata": {},
   "outputs": [
    {
     "data": {
      "text/html": [
       "<div>\n",
       "<style scoped>\n",
       "    .dataframe tbody tr th:only-of-type {\n",
       "        vertical-align: middle;\n",
       "    }\n",
       "\n",
       "    .dataframe tbody tr th {\n",
       "        vertical-align: top;\n",
       "    }\n",
       "\n",
       "    .dataframe thead th {\n",
       "        text-align: right;\n",
       "    }\n",
       "</style>\n",
       "<table border=\"1\" class=\"dataframe\">\n",
       "  <thead>\n",
       "    <tr style=\"text-align: right;\">\n",
       "      <th></th>\n",
       "      <th>0</th>\n",
       "      <th>1</th>\n",
       "      <th>2</th>\n",
       "      <th>3</th>\n",
       "      <th>4</th>\n",
       "    </tr>\n",
       "  </thead>\n",
       "  <tbody>\n",
       "    <tr>\n",
       "      <th>0</th>\n",
       "      <td>0.098589</td>\n",
       "      <td>0.351278</td>\n",
       "      <td>0.864009</td>\n",
       "      <td>0.850922</td>\n",
       "      <td>0.433360</td>\n",
       "    </tr>\n",
       "    <tr>\n",
       "      <th>1</th>\n",
       "      <td>0.533904</td>\n",
       "      <td>0.243897</td>\n",
       "      <td>0.833083</td>\n",
       "      <td>0.370163</td>\n",
       "      <td>0.395538</td>\n",
       "    </tr>\n",
       "    <tr>\n",
       "      <th>2</th>\n",
       "      <td>0.424873</td>\n",
       "      <td>0.595128</td>\n",
       "      <td>0.330650</td>\n",
       "      <td>0.956321</td>\n",
       "      <td>0.293067</td>\n",
       "    </tr>\n",
       "    <tr>\n",
       "      <th>3</th>\n",
       "      <td>0.420995</td>\n",
       "      <td>0.695874</td>\n",
       "      <td>0.585755</td>\n",
       "      <td>0.111364</td>\n",
       "      <td>0.866933</td>\n",
       "    </tr>\n",
       "    <tr>\n",
       "      <th>4</th>\n",
       "      <td>0.961399</td>\n",
       "      <td>0.659605</td>\n",
       "      <td>0.274271</td>\n",
       "      <td>0.807315</td>\n",
       "      <td>0.390577</td>\n",
       "    </tr>\n",
       "    <tr>\n",
       "      <th>5</th>\n",
       "      <td>0.484215</td>\n",
       "      <td>0.505816</td>\n",
       "      <td>0.287873</td>\n",
       "      <td>0.667518</td>\n",
       "      <td>0.502289</td>\n",
       "    </tr>\n",
       "    <tr>\n",
       "      <th>6</th>\n",
       "      <td>0.942244</td>\n",
       "      <td>0.343632</td>\n",
       "      <td>0.346479</td>\n",
       "      <td>0.597783</td>\n",
       "      <td>0.387842</td>\n",
       "    </tr>\n",
       "    <tr>\n",
       "      <th>7</th>\n",
       "      <td>0.255269</td>\n",
       "      <td>0.425195</td>\n",
       "      <td>0.559428</td>\n",
       "      <td>0.885445</td>\n",
       "      <td>0.359746</td>\n",
       "    </tr>\n",
       "    <tr>\n",
       "      <th>8</th>\n",
       "      <td>0.706808</td>\n",
       "      <td>0.102396</td>\n",
       "      <td>0.986169</td>\n",
       "      <td>0.409869</td>\n",
       "      <td>0.627432</td>\n",
       "    </tr>\n",
       "    <tr>\n",
       "      <th>9</th>\n",
       "      <td>0.003568</td>\n",
       "      <td>0.813200</td>\n",
       "      <td>0.684148</td>\n",
       "      <td>0.527594</td>\n",
       "      <td>0.747576</td>\n",
       "    </tr>\n",
       "    <tr>\n",
       "      <th>10</th>\n",
       "      <td>0.182822</td>\n",
       "      <td>0.309517</td>\n",
       "      <td>0.036678</td>\n",
       "      <td>0.561646</td>\n",
       "      <td>0.184323</td>\n",
       "    </tr>\n",
       "    <tr>\n",
       "      <th>11</th>\n",
       "      <td>0.918546</td>\n",
       "      <td>0.722693</td>\n",
       "      <td>0.273938</td>\n",
       "      <td>0.893303</td>\n",
       "      <td>0.998063</td>\n",
       "    </tr>\n",
       "    <tr>\n",
       "      <th>12</th>\n",
       "      <td>0.620878</td>\n",
       "      <td>0.610847</td>\n",
       "      <td>0.189261</td>\n",
       "      <td>0.629020</td>\n",
       "      <td>0.201671</td>\n",
       "    </tr>\n",
       "    <tr>\n",
       "      <th>13</th>\n",
       "      <td>0.438371</td>\n",
       "      <td>0.711891</td>\n",
       "      <td>0.826766</td>\n",
       "      <td>0.470856</td>\n",
       "      <td>0.418696</td>\n",
       "    </tr>\n",
       "    <tr>\n",
       "      <th>14</th>\n",
       "      <td>0.088324</td>\n",
       "      <td>0.810841</td>\n",
       "      <td>0.774955</td>\n",
       "      <td>0.927784</td>\n",
       "      <td>0.886524</td>\n",
       "    </tr>\n",
       "    <tr>\n",
       "      <th>15</th>\n",
       "      <td>0.531656</td>\n",
       "      <td>0.536797</td>\n",
       "      <td>0.977685</td>\n",
       "      <td>0.374036</td>\n",
       "      <td>0.733311</td>\n",
       "    </tr>\n",
       "    <tr>\n",
       "      <th>16</th>\n",
       "      <td>0.106742</td>\n",
       "      <td>0.959918</td>\n",
       "      <td>0.136967</td>\n",
       "      <td>0.975175</td>\n",
       "      <td>0.093284</td>\n",
       "    </tr>\n",
       "    <tr>\n",
       "      <th>17</th>\n",
       "      <td>0.572764</td>\n",
       "      <td>0.432730</td>\n",
       "      <td>0.984251</td>\n",
       "      <td>0.465365</td>\n",
       "      <td>0.321301</td>\n",
       "    </tr>\n",
       "    <tr>\n",
       "      <th>18</th>\n",
       "      <td>0.908822</td>\n",
       "      <td>0.881598</td>\n",
       "      <td>0.614194</td>\n",
       "      <td>0.316528</td>\n",
       "      <td>0.852739</td>\n",
       "    </tr>\n",
       "    <tr>\n",
       "      <th>19</th>\n",
       "      <td>0.020360</td>\n",
       "      <td>0.161875</td>\n",
       "      <td>0.359481</td>\n",
       "      <td>0.092332</td>\n",
       "      <td>0.394709</td>\n",
       "    </tr>\n",
       "  </tbody>\n",
       "</table>\n",
       "</div>"
      ],
      "text/plain": [
       "           0         1         2         3         4\n",
       "0   0.098589  0.351278  0.864009  0.850922  0.433360\n",
       "1   0.533904  0.243897  0.833083  0.370163  0.395538\n",
       "2   0.424873  0.595128  0.330650  0.956321  0.293067\n",
       "3   0.420995  0.695874  0.585755  0.111364  0.866933\n",
       "4   0.961399  0.659605  0.274271  0.807315  0.390577\n",
       "5   0.484215  0.505816  0.287873  0.667518  0.502289\n",
       "6   0.942244  0.343632  0.346479  0.597783  0.387842\n",
       "7   0.255269  0.425195  0.559428  0.885445  0.359746\n",
       "8   0.706808  0.102396  0.986169  0.409869  0.627432\n",
       "9   0.003568  0.813200  0.684148  0.527594  0.747576\n",
       "10  0.182822  0.309517  0.036678  0.561646  0.184323\n",
       "11  0.918546  0.722693  0.273938  0.893303  0.998063\n",
       "12  0.620878  0.610847  0.189261  0.629020  0.201671\n",
       "13  0.438371  0.711891  0.826766  0.470856  0.418696\n",
       "14  0.088324  0.810841  0.774955  0.927784  0.886524\n",
       "15  0.531656  0.536797  0.977685  0.374036  0.733311\n",
       "16  0.106742  0.959918  0.136967  0.975175  0.093284\n",
       "17  0.572764  0.432730  0.984251  0.465365  0.321301\n",
       "18  0.908822  0.881598  0.614194  0.316528  0.852739\n",
       "19  0.020360  0.161875  0.359481  0.092332  0.394709"
      ]
     },
     "execution_count": 49,
     "metadata": {},
     "output_type": "execute_result"
    }
   ],
   "source": [
    "#@solution\n",
    "data = np.random.random(100).reshape((20,5))  # dummy data\n",
    "table = pd.DataFrame(data)                    # put the data into a pandas data frame\n",
    "table"
   ]
  },
  {
   "cell_type": "code",
   "execution_count": 50,
   "metadata": {},
   "outputs": [
    {
     "data": {
      "text/html": [
       "<div>\n",
       "<style scoped>\n",
       "    .dataframe tbody tr th:only-of-type {\n",
       "        vertical-align: middle;\n",
       "    }\n",
       "\n",
       "    .dataframe tbody tr th {\n",
       "        vertical-align: top;\n",
       "    }\n",
       "\n",
       "    .dataframe thead th {\n",
       "        text-align: right;\n",
       "    }\n",
       "</style>\n",
       "<table border=\"1\" class=\"dataframe\">\n",
       "  <thead>\n",
       "    <tr style=\"text-align: right;\">\n",
       "      <th></th>\n",
       "      <th>obs1</th>\n",
       "      <th>obs2</th>\n",
       "      <th>obs3</th>\n",
       "      <th>obs4</th>\n",
       "      <th>obs5</th>\n",
       "    </tr>\n",
       "  </thead>\n",
       "  <tbody>\n",
       "    <tr>\n",
       "      <th>0</th>\n",
       "      <td>0.098589</td>\n",
       "      <td>0.351278</td>\n",
       "      <td>0.864009</td>\n",
       "      <td>0.850922</td>\n",
       "      <td>0.433360</td>\n",
       "    </tr>\n",
       "    <tr>\n",
       "      <th>1</th>\n",
       "      <td>0.533904</td>\n",
       "      <td>0.243897</td>\n",
       "      <td>0.833083</td>\n",
       "      <td>0.370163</td>\n",
       "      <td>0.395538</td>\n",
       "    </tr>\n",
       "    <tr>\n",
       "      <th>2</th>\n",
       "      <td>0.424873</td>\n",
       "      <td>0.595128</td>\n",
       "      <td>0.330650</td>\n",
       "      <td>0.956321</td>\n",
       "      <td>0.293067</td>\n",
       "    </tr>\n",
       "    <tr>\n",
       "      <th>3</th>\n",
       "      <td>0.420995</td>\n",
       "      <td>0.695874</td>\n",
       "      <td>0.585755</td>\n",
       "      <td>0.111364</td>\n",
       "      <td>0.866933</td>\n",
       "    </tr>\n",
       "    <tr>\n",
       "      <th>4</th>\n",
       "      <td>0.961399</td>\n",
       "      <td>0.659605</td>\n",
       "      <td>0.274271</td>\n",
       "      <td>0.807315</td>\n",
       "      <td>0.390577</td>\n",
       "    </tr>\n",
       "    <tr>\n",
       "      <th>5</th>\n",
       "      <td>0.484215</td>\n",
       "      <td>0.505816</td>\n",
       "      <td>0.287873</td>\n",
       "      <td>0.667518</td>\n",
       "      <td>0.502289</td>\n",
       "    </tr>\n",
       "    <tr>\n",
       "      <th>6</th>\n",
       "      <td>0.942244</td>\n",
       "      <td>0.343632</td>\n",
       "      <td>0.346479</td>\n",
       "      <td>0.597783</td>\n",
       "      <td>0.387842</td>\n",
       "    </tr>\n",
       "    <tr>\n",
       "      <th>7</th>\n",
       "      <td>0.255269</td>\n",
       "      <td>0.425195</td>\n",
       "      <td>0.559428</td>\n",
       "      <td>0.885445</td>\n",
       "      <td>0.359746</td>\n",
       "    </tr>\n",
       "    <tr>\n",
       "      <th>8</th>\n",
       "      <td>0.706808</td>\n",
       "      <td>0.102396</td>\n",
       "      <td>0.986169</td>\n",
       "      <td>0.409869</td>\n",
       "      <td>0.627432</td>\n",
       "    </tr>\n",
       "    <tr>\n",
       "      <th>9</th>\n",
       "      <td>0.003568</td>\n",
       "      <td>0.813200</td>\n",
       "      <td>0.684148</td>\n",
       "      <td>0.527594</td>\n",
       "      <td>0.747576</td>\n",
       "    </tr>\n",
       "    <tr>\n",
       "      <th>10</th>\n",
       "      <td>0.182822</td>\n",
       "      <td>0.309517</td>\n",
       "      <td>0.036678</td>\n",
       "      <td>0.561646</td>\n",
       "      <td>0.184323</td>\n",
       "    </tr>\n",
       "    <tr>\n",
       "      <th>11</th>\n",
       "      <td>0.918546</td>\n",
       "      <td>0.722693</td>\n",
       "      <td>0.273938</td>\n",
       "      <td>0.893303</td>\n",
       "      <td>0.998063</td>\n",
       "    </tr>\n",
       "    <tr>\n",
       "      <th>12</th>\n",
       "      <td>0.620878</td>\n",
       "      <td>0.610847</td>\n",
       "      <td>0.189261</td>\n",
       "      <td>0.629020</td>\n",
       "      <td>0.201671</td>\n",
       "    </tr>\n",
       "    <tr>\n",
       "      <th>13</th>\n",
       "      <td>0.438371</td>\n",
       "      <td>0.711891</td>\n",
       "      <td>0.826766</td>\n",
       "      <td>0.470856</td>\n",
       "      <td>0.418696</td>\n",
       "    </tr>\n",
       "    <tr>\n",
       "      <th>14</th>\n",
       "      <td>0.088324</td>\n",
       "      <td>0.810841</td>\n",
       "      <td>0.774955</td>\n",
       "      <td>0.927784</td>\n",
       "      <td>0.886524</td>\n",
       "    </tr>\n",
       "    <tr>\n",
       "      <th>15</th>\n",
       "      <td>0.531656</td>\n",
       "      <td>0.536797</td>\n",
       "      <td>0.977685</td>\n",
       "      <td>0.374036</td>\n",
       "      <td>0.733311</td>\n",
       "    </tr>\n",
       "    <tr>\n",
       "      <th>16</th>\n",
       "      <td>0.106742</td>\n",
       "      <td>0.959918</td>\n",
       "      <td>0.136967</td>\n",
       "      <td>0.975175</td>\n",
       "      <td>0.093284</td>\n",
       "    </tr>\n",
       "    <tr>\n",
       "      <th>17</th>\n",
       "      <td>0.572764</td>\n",
       "      <td>0.432730</td>\n",
       "      <td>0.984251</td>\n",
       "      <td>0.465365</td>\n",
       "      <td>0.321301</td>\n",
       "    </tr>\n",
       "    <tr>\n",
       "      <th>18</th>\n",
       "      <td>0.908822</td>\n",
       "      <td>0.881598</td>\n",
       "      <td>0.614194</td>\n",
       "      <td>0.316528</td>\n",
       "      <td>0.852739</td>\n",
       "    </tr>\n",
       "    <tr>\n",
       "      <th>19</th>\n",
       "      <td>0.020360</td>\n",
       "      <td>0.161875</td>\n",
       "      <td>0.359481</td>\n",
       "      <td>0.092332</td>\n",
       "      <td>0.394709</td>\n",
       "    </tr>\n",
       "  </tbody>\n",
       "</table>\n",
       "</div>"
      ],
      "text/plain": [
       "        obs1      obs2      obs3      obs4      obs5\n",
       "0   0.098589  0.351278  0.864009  0.850922  0.433360\n",
       "1   0.533904  0.243897  0.833083  0.370163  0.395538\n",
       "2   0.424873  0.595128  0.330650  0.956321  0.293067\n",
       "3   0.420995  0.695874  0.585755  0.111364  0.866933\n",
       "4   0.961399  0.659605  0.274271  0.807315  0.390577\n",
       "5   0.484215  0.505816  0.287873  0.667518  0.502289\n",
       "6   0.942244  0.343632  0.346479  0.597783  0.387842\n",
       "7   0.255269  0.425195  0.559428  0.885445  0.359746\n",
       "8   0.706808  0.102396  0.986169  0.409869  0.627432\n",
       "9   0.003568  0.813200  0.684148  0.527594  0.747576\n",
       "10  0.182822  0.309517  0.036678  0.561646  0.184323\n",
       "11  0.918546  0.722693  0.273938  0.893303  0.998063\n",
       "12  0.620878  0.610847  0.189261  0.629020  0.201671\n",
       "13  0.438371  0.711891  0.826766  0.470856  0.418696\n",
       "14  0.088324  0.810841  0.774955  0.927784  0.886524\n",
       "15  0.531656  0.536797  0.977685  0.374036  0.733311\n",
       "16  0.106742  0.959918  0.136967  0.975175  0.093284\n",
       "17  0.572764  0.432730  0.984251  0.465365  0.321301\n",
       "18  0.908822  0.881598  0.614194  0.316528  0.852739\n",
       "19  0.020360  0.161875  0.359481  0.092332  0.394709"
      ]
     },
     "execution_count": 50,
     "metadata": {},
     "output_type": "execute_result"
    }
   ],
   "source": [
    "#@solution\n",
    "# name columns by the observable they represent\n",
    "table = pd.DataFrame(data, columns=[\"obs1\",\"obs2\",\"obs3\",\"obs4\",\"obs5\"]) \n",
    "table"
   ]
  },
  {
   "cell_type": "markdown",
   "metadata": {},
   "source": [
    "By using pandas you have some advantages. Nicer output of your data is one of them. Selection can get easier as well, but is different compared to numpy."
   ]
  },
  {
   "cell_type": "code",
   "execution_count": 51,
   "metadata": {},
   "outputs": [
    {
     "name": "stdout",
     "output_type": "stream",
     "text": [
      "obs1    0.098589\n",
      "obs2    0.351278\n",
      "obs3    0.864009\n",
      "obs4    0.850922\n",
      "obs5    0.433360\n",
      "Name: 0, dtype: float64\n",
      "---\n",
      "0     0.098589\n",
      "1     0.533904\n",
      "2     0.424873\n",
      "3     0.420995\n",
      "4     0.961399\n",
      "5     0.484215\n",
      "6     0.942244\n",
      "7     0.255269\n",
      "8     0.706808\n",
      "9     0.003568\n",
      "10    0.182822\n",
      "11    0.918546\n",
      "12    0.620878\n",
      "13    0.438371\n",
      "14    0.088324\n",
      "15    0.531656\n",
      "16    0.106742\n",
      "17    0.572764\n",
      "18    0.908822\n",
      "19    0.020360\n",
      "Name: obs1, dtype: float64\n"
     ]
    }
   ],
   "source": [
    "#@solution\n",
    "print(table.loc[0])  # get first row\n",
    "print(\"---\")\n",
    "print(table.obs1)    # get the first column"
   ]
  },
  {
   "cell_type": "markdown",
   "metadata": {},
   "source": [
    "You can perform calculations with pandas as you would do with numpy. You should consider not to use pandas for really big data sets, since it may low down, particularly if you try to display the data. "
   ]
  },
  {
   "cell_type": "code",
   "execution_count": 52,
   "metadata": {},
   "outputs": [
    {
     "data": {
      "text/plain": [
       "obs1    0.957831\n",
       "obs2    0.857523\n",
       "obs3    0.949491\n",
       "obs4    0.882842\n",
       "obs5    0.904779\n",
       "dtype: float64"
      ]
     },
     "execution_count": 52,
     "metadata": {},
     "output_type": "execute_result"
    }
   ],
   "source": [
    "#@solution\n",
    "table.max() - table.min()"
   ]
  },
  {
   "cell_type": "markdown",
   "metadata": {},
   "source": [
    "### Mixed tables"
   ]
  },
  {
   "cell_type": "markdown",
   "metadata": {},
   "source": [
    "Pandas allows you to arrange your data like in the following example. Imagine you have a data set with two species with several members. You could then easily group your data."
   ]
  },
  {
   "cell_type": "code",
   "execution_count": 53,
   "metadata": {},
   "outputs": [
    {
     "data": {
      "text/html": [
       "<div>\n",
       "<style scoped>\n",
       "    .dataframe tbody tr th:only-of-type {\n",
       "        vertical-align: middle;\n",
       "    }\n",
       "\n",
       "    .dataframe tbody tr th {\n",
       "        vertical-align: top;\n",
       "    }\n",
       "\n",
       "    .dataframe thead th {\n",
       "        text-align: right;\n",
       "    }\n",
       "</style>\n",
       "<table border=\"1\" class=\"dataframe\">\n",
       "  <thead>\n",
       "    <tr style=\"text-align: right;\">\n",
       "      <th></th>\n",
       "      <th>A</th>\n",
       "      <th>B</th>\n",
       "      <th>num</th>\n",
       "      <th>spec</th>\n",
       "    </tr>\n",
       "  </thead>\n",
       "  <tbody>\n",
       "    <tr>\n",
       "      <th>0</th>\n",
       "      <td>-1.210976</td>\n",
       "      <td>-1.498294</td>\n",
       "      <td>one</td>\n",
       "      <td>human</td>\n",
       "    </tr>\n",
       "    <tr>\n",
       "      <th>1</th>\n",
       "      <td>0.308326</td>\n",
       "      <td>-0.463092</td>\n",
       "      <td>one</td>\n",
       "      <td>animal</td>\n",
       "    </tr>\n",
       "    <tr>\n",
       "      <th>2</th>\n",
       "      <td>0.164953</td>\n",
       "      <td>0.498471</td>\n",
       "      <td>two</td>\n",
       "      <td>human</td>\n",
       "    </tr>\n",
       "    <tr>\n",
       "      <th>3</th>\n",
       "      <td>1.414154</td>\n",
       "      <td>-1.667121</td>\n",
       "      <td>three</td>\n",
       "      <td>animal</td>\n",
       "    </tr>\n",
       "    <tr>\n",
       "      <th>4</th>\n",
       "      <td>-0.748112</td>\n",
       "      <td>0.447321</td>\n",
       "      <td>two</td>\n",
       "      <td>human</td>\n",
       "    </tr>\n",
       "    <tr>\n",
       "      <th>5</th>\n",
       "      <td>-1.749002</td>\n",
       "      <td>1.264759</td>\n",
       "      <td>two</td>\n",
       "      <td>animal</td>\n",
       "    </tr>\n",
       "    <tr>\n",
       "      <th>6</th>\n",
       "      <td>-0.847937</td>\n",
       "      <td>2.437791</td>\n",
       "      <td>one</td>\n",
       "      <td>human</td>\n",
       "    </tr>\n",
       "    <tr>\n",
       "      <th>7</th>\n",
       "      <td>-0.147338</td>\n",
       "      <td>0.185111</td>\n",
       "      <td>three</td>\n",
       "      <td>animal</td>\n",
       "    </tr>\n",
       "  </tbody>\n",
       "</table>\n",
       "</div>"
      ],
      "text/plain": [
       "          A         B    num    spec\n",
       "0 -1.210976 -1.498294    one   human\n",
       "1  0.308326 -0.463092    one  animal\n",
       "2  0.164953  0.498471    two   human\n",
       "3  1.414154 -1.667121  three  animal\n",
       "4 -0.748112  0.447321    two   human\n",
       "5 -1.749002  1.264759    two  animal\n",
       "6 -0.847937  2.437791    one   human\n",
       "7 -0.147338  0.185111  three  animal"
      ]
     },
     "execution_count": 53,
     "metadata": {},
     "output_type": "execute_result"
    }
   ],
   "source": [
    "table2 = pd.DataFrame({'spec' : ['human', 'animal', 'human', 'animal', 'human', 'animal', 'human', 'animal'],\n",
    "                       'num'  : ['one', 'one', 'two', 'three', 'two', 'two', 'one', 'three'],\n",
    "                       'A' : np.random.randn(8),\n",
    "                       'B' : np.random.randn(8)})\n",
    "table2"
   ]
  },
  {
   "cell_type": "code",
   "execution_count": 54,
   "metadata": {},
   "outputs": [
    {
     "data": {
      "text/html": [
       "<div>\n",
       "<style scoped>\n",
       "    .dataframe tbody tr th:only-of-type {\n",
       "        vertical-align: middle;\n",
       "    }\n",
       "\n",
       "    .dataframe tbody tr th {\n",
       "        vertical-align: top;\n",
       "    }\n",
       "\n",
       "    .dataframe thead th {\n",
       "        text-align: right;\n",
       "    }\n",
       "</style>\n",
       "<table border=\"1\" class=\"dataframe\">\n",
       "  <thead>\n",
       "    <tr style=\"text-align: right;\">\n",
       "      <th></th>\n",
       "      <th>A</th>\n",
       "      <th>B</th>\n",
       "    </tr>\n",
       "    <tr>\n",
       "      <th>num</th>\n",
       "      <th></th>\n",
       "      <th></th>\n",
       "    </tr>\n",
       "  </thead>\n",
       "  <tbody>\n",
       "    <tr>\n",
       "      <th>one</th>\n",
       "      <td>-1.750587</td>\n",
       "      <td>0.476406</td>\n",
       "    </tr>\n",
       "    <tr>\n",
       "      <th>three</th>\n",
       "      <td>1.266815</td>\n",
       "      <td>-1.482010</td>\n",
       "    </tr>\n",
       "    <tr>\n",
       "      <th>two</th>\n",
       "      <td>-2.332162</td>\n",
       "      <td>2.210552</td>\n",
       "    </tr>\n",
       "  </tbody>\n",
       "</table>\n",
       "</div>"
      ],
      "text/plain": [
       "              A         B\n",
       "num                      \n",
       "one   -1.750587  0.476406\n",
       "three  1.266815 -1.482010\n",
       "two   -2.332162  2.210552"
      ]
     },
     "execution_count": 54,
     "metadata": {},
     "output_type": "execute_result"
    }
   ],
   "source": [
    "#@solution\n",
    "table2.groupby('num').sum()"
   ]
  },
  {
   "cell_type": "markdown",
   "metadata": {},
   "source": [
    "<div class=\"alert alert-block alert-info\">\n",
    "Calculate the mean values for A and B for the two species.\n",
    "</div>"
   ]
  },
  {
   "cell_type": "code",
   "execution_count": 55,
   "metadata": {},
   "outputs": [
    {
     "data": {
      "text/html": [
       "<div>\n",
       "<style scoped>\n",
       "    .dataframe tbody tr th:only-of-type {\n",
       "        vertical-align: middle;\n",
       "    }\n",
       "\n",
       "    .dataframe tbody tr th {\n",
       "        vertical-align: top;\n",
       "    }\n",
       "\n",
       "    .dataframe thead th {\n",
       "        text-align: right;\n",
       "    }\n",
       "</style>\n",
       "<table border=\"1\" class=\"dataframe\">\n",
       "  <thead>\n",
       "    <tr style=\"text-align: right;\">\n",
       "      <th></th>\n",
       "      <th>A</th>\n",
       "      <th>B</th>\n",
       "    </tr>\n",
       "    <tr>\n",
       "      <th>spec</th>\n",
       "      <th></th>\n",
       "      <th></th>\n",
       "    </tr>\n",
       "  </thead>\n",
       "  <tbody>\n",
       "    <tr>\n",
       "      <th>animal</th>\n",
       "      <td>-0.173861</td>\n",
       "      <td>-0.680342</td>\n",
       "    </tr>\n",
       "    <tr>\n",
       "      <th>human</th>\n",
       "      <td>-2.642072</td>\n",
       "      <td>1.885290</td>\n",
       "    </tr>\n",
       "  </tbody>\n",
       "</table>\n",
       "</div>"
      ],
      "text/plain": [
       "               A         B\n",
       "spec                      \n",
       "animal -0.173861 -0.680342\n",
       "human  -2.642072  1.885290"
      ]
     },
     "execution_count": 55,
     "metadata": {},
     "output_type": "execute_result"
    }
   ],
   "source": [
    "#@solution\n",
    "table2.groupby('spec').sum()"
   ]
  },
  {
   "cell_type": "markdown",
   "metadata": {},
   "source": [
    "### Save and Load"
   ]
  },
  {
   "cell_type": "code",
   "execution_count": 56,
   "metadata": {},
   "outputs": [
    {
     "data": {
      "text/html": [
       "<div>\n",
       "<style scoped>\n",
       "    .dataframe tbody tr th:only-of-type {\n",
       "        vertical-align: middle;\n",
       "    }\n",
       "\n",
       "    .dataframe tbody tr th {\n",
       "        vertical-align: top;\n",
       "    }\n",
       "\n",
       "    .dataframe thead th {\n",
       "        text-align: right;\n",
       "    }\n",
       "</style>\n",
       "<table border=\"1\" class=\"dataframe\">\n",
       "  <thead>\n",
       "    <tr style=\"text-align: right;\">\n",
       "      <th></th>\n",
       "      <th>A</th>\n",
       "      <th>B</th>\n",
       "      <th>num</th>\n",
       "      <th>spec</th>\n",
       "    </tr>\n",
       "  </thead>\n",
       "  <tbody>\n",
       "    <tr>\n",
       "      <th>0</th>\n",
       "      <td>-1.210976</td>\n",
       "      <td>-1.498294</td>\n",
       "      <td>one</td>\n",
       "      <td>human</td>\n",
       "    </tr>\n",
       "    <tr>\n",
       "      <th>1</th>\n",
       "      <td>0.308326</td>\n",
       "      <td>-0.463092</td>\n",
       "      <td>one</td>\n",
       "      <td>animal</td>\n",
       "    </tr>\n",
       "    <tr>\n",
       "      <th>2</th>\n",
       "      <td>0.164953</td>\n",
       "      <td>0.498471</td>\n",
       "      <td>two</td>\n",
       "      <td>human</td>\n",
       "    </tr>\n",
       "    <tr>\n",
       "      <th>3</th>\n",
       "      <td>1.414154</td>\n",
       "      <td>-1.667121</td>\n",
       "      <td>three</td>\n",
       "      <td>animal</td>\n",
       "    </tr>\n",
       "    <tr>\n",
       "      <th>4</th>\n",
       "      <td>-0.748112</td>\n",
       "      <td>0.447321</td>\n",
       "      <td>two</td>\n",
       "      <td>human</td>\n",
       "    </tr>\n",
       "    <tr>\n",
       "      <th>5</th>\n",
       "      <td>-1.749002</td>\n",
       "      <td>1.264759</td>\n",
       "      <td>two</td>\n",
       "      <td>animal</td>\n",
       "    </tr>\n",
       "    <tr>\n",
       "      <th>6</th>\n",
       "      <td>-0.847937</td>\n",
       "      <td>2.437791</td>\n",
       "      <td>one</td>\n",
       "      <td>human</td>\n",
       "    </tr>\n",
       "    <tr>\n",
       "      <th>7</th>\n",
       "      <td>-0.147338</td>\n",
       "      <td>0.185111</td>\n",
       "      <td>three</td>\n",
       "      <td>animal</td>\n",
       "    </tr>\n",
       "  </tbody>\n",
       "</table>\n",
       "</div>"
      ],
      "text/plain": [
       "          A         B    num    spec\n",
       "0 -1.210976 -1.498294    one   human\n",
       "1  0.308326 -0.463092    one  animal\n",
       "2  0.164953  0.498471    two   human\n",
       "3  1.414154 -1.667121  three  animal\n",
       "4 -0.748112  0.447321    two   human\n",
       "5 -1.749002  1.264759    two  animal\n",
       "6 -0.847937  2.437791    one   human\n",
       "7 -0.147338  0.185111  three  animal"
      ]
     },
     "execution_count": 56,
     "metadata": {},
     "output_type": "execute_result"
    }
   ],
   "source": [
    "table2.to_csv(\"table2.csv\")  # save to file, check the directory where this notebook is stored\n",
    "loaded_table = pd.read_csv(\"table2.csv\", index_col=0)\n",
    "loaded_table"
   ]
  },
  {
   "cell_type": "code",
   "execution_count": 57,
   "metadata": {},
   "outputs": [
    {
     "data": {
      "text/html": [
       "<div>\n",
       "<style scoped>\n",
       "    .dataframe tbody tr th:only-of-type {\n",
       "        vertical-align: middle;\n",
       "    }\n",
       "\n",
       "    .dataframe tbody tr th {\n",
       "        vertical-align: top;\n",
       "    }\n",
       "\n",
       "    .dataframe thead th {\n",
       "        text-align: right;\n",
       "    }\n",
       "</style>\n",
       "<table border=\"1\" class=\"dataframe\">\n",
       "  <thead>\n",
       "    <tr style=\"text-align: right;\">\n",
       "      <th></th>\n",
       "      <th>A</th>\n",
       "      <th>B</th>\n",
       "      <th>num</th>\n",
       "      <th>spec</th>\n",
       "    </tr>\n",
       "  </thead>\n",
       "  <tbody>\n",
       "    <tr>\n",
       "      <th>0</th>\n",
       "      <td>-1.210976</td>\n",
       "      <td>-1.498294</td>\n",
       "      <td>one</td>\n",
       "      <td>human</td>\n",
       "    </tr>\n",
       "    <tr>\n",
       "      <th>1</th>\n",
       "      <td>0.308326</td>\n",
       "      <td>-0.463092</td>\n",
       "      <td>one</td>\n",
       "      <td>animal</td>\n",
       "    </tr>\n",
       "    <tr>\n",
       "      <th>2</th>\n",
       "      <td>0.164953</td>\n",
       "      <td>0.498471</td>\n",
       "      <td>two</td>\n",
       "      <td>human</td>\n",
       "    </tr>\n",
       "    <tr>\n",
       "      <th>3</th>\n",
       "      <td>1.414154</td>\n",
       "      <td>-1.667121</td>\n",
       "      <td>three</td>\n",
       "      <td>animal</td>\n",
       "    </tr>\n",
       "    <tr>\n",
       "      <th>4</th>\n",
       "      <td>-0.748112</td>\n",
       "      <td>0.447321</td>\n",
       "      <td>two</td>\n",
       "      <td>human</td>\n",
       "    </tr>\n",
       "    <tr>\n",
       "      <th>5</th>\n",
       "      <td>-1.749002</td>\n",
       "      <td>1.264759</td>\n",
       "      <td>two</td>\n",
       "      <td>animal</td>\n",
       "    </tr>\n",
       "    <tr>\n",
       "      <th>6</th>\n",
       "      <td>-0.847937</td>\n",
       "      <td>2.437791</td>\n",
       "      <td>one</td>\n",
       "      <td>human</td>\n",
       "    </tr>\n",
       "    <tr>\n",
       "      <th>7</th>\n",
       "      <td>-0.147338</td>\n",
       "      <td>0.185111</td>\n",
       "      <td>three</td>\n",
       "      <td>animal</td>\n",
       "    </tr>\n",
       "  </tbody>\n",
       "</table>\n",
       "</div>"
      ],
      "text/plain": [
       "          A         B    num    spec\n",
       "0 -1.210976 -1.498294    one   human\n",
       "1  0.308326 -0.463092    one  animal\n",
       "2  0.164953  0.498471    two   human\n",
       "3  1.414154 -1.667121  three  animal\n",
       "4 -0.748112  0.447321    two   human\n",
       "5 -1.749002  1.264759    two  animal\n",
       "6 -0.847937  2.437791    one   human\n",
       "7 -0.147338  0.185111  three  animal"
      ]
     },
     "execution_count": 57,
     "metadata": {},
     "output_type": "execute_result"
    }
   ],
   "source": [
    "table2.to_csv(\"table2.csv\", index=False)  # save to file, check the directory where this notebook is stored\n",
    "loaded_table = pd.read_csv(\"table2.csv\")\n",
    "loaded_table"
   ]
  },
  {
   "cell_type": "code",
   "execution_count": 58,
   "metadata": {},
   "outputs": [
    {
     "name": "stdout",
     "output_type": "stream",
     "text": [
      "\\begin{tabular}{lrrll}\n",
      "\\toprule\n",
      "{} &         A &         B &    num &    spec \\\\\n",
      "\\midrule\n",
      "0 & -1.210976 & -1.498294 &    one &   human \\\\\n",
      "1 &  0.308326 & -0.463092 &    one &  animal \\\\\n",
      "2 &  0.164953 &  0.498471 &    two &   human \\\\\n",
      "3 &  1.414154 & -1.667121 &  three &  animal \\\\\n",
      "4 & -0.748112 &  0.447321 &    two &   human \\\\\n",
      "5 & -1.749002 &  1.264759 &    two &  animal \\\\\n",
      "6 & -0.847937 &  2.437791 &    one &   human \\\\\n",
      "7 & -0.147338 &  0.185111 &  three &  animal \\\\\n",
      "\\bottomrule\n",
      "\\end{tabular}\n",
      "\n"
     ]
    }
   ],
   "source": [
    "print(table2.to_latex())   # get a latex table"
   ]
  },
  {
   "cell_type": "markdown",
   "metadata": {},
   "source": [
    "<div class=\"alert alert-block alert-info\">\n",
    "For LaTeX users: Write the output of `to_latex()` to a file (which you can import into you TeX document.)\n",
    "</div>"
   ]
  },
  {
   "cell_type": "code",
   "execution_count": 59,
   "metadata": {},
   "outputs": [],
   "source": [
    "#@solution\n",
    "with open(\"table2.tex\", 'w') as fp:\n",
    "    fp.write(table2.to_latex())"
   ]
  },
  {
   "cell_type": "markdown",
   "metadata": {},
   "source": [
    "### Bonus: View"
   ]
  },
  {
   "cell_type": "markdown",
   "metadata": {},
   "source": [
    "Pandas can be also used to improve the way you view your data. It makes it very easy to create a custom style sheet for your tables. Here we define a simple function which takes a single value. Based on the type of the value it is colored:\n",
    "* String - green\n",
    "* Number smaller than 0 - red\n",
    "* Number bigger than 0 - black"
   ]
  },
  {
   "cell_type": "code",
   "execution_count": 60,
   "metadata": {},
   "outputs": [],
   "source": [
    "def color_negative_red(val):\n",
    "    \"\"\"\n",
    "    Takes a scalar and returns a string with\n",
    "    the css property `'color: red'` for negative\n",
    "    strings, black otherwise.\n",
    "    \"\"\"\n",
    "    if type(val) == float or type(val) == int:\n",
    "        color = 'red' if val < 0 else 'black'\n",
    "    else:\n",
    "        color = 'green'\n",
    "    return 'color: %s' % color"
   ]
  },
  {
   "cell_type": "code",
   "execution_count": 61,
   "metadata": {},
   "outputs": [
    {
     "data": {
      "text/html": [
       "<style  type=\"text/css\" >\n",
       "    #T_73e3e838_d14e_11e8_bcd8_ec086b03c2a7row0_col0 {\n",
       "            color:  red;\n",
       "        }    #T_73e3e838_d14e_11e8_bcd8_ec086b03c2a7row0_col1 {\n",
       "            color:  red;\n",
       "        }    #T_73e3e838_d14e_11e8_bcd8_ec086b03c2a7row0_col2 {\n",
       "            color:  green;\n",
       "        }    #T_73e3e838_d14e_11e8_bcd8_ec086b03c2a7row0_col3 {\n",
       "            color:  green;\n",
       "        }    #T_73e3e838_d14e_11e8_bcd8_ec086b03c2a7row1_col0 {\n",
       "            color:  black;\n",
       "        }    #T_73e3e838_d14e_11e8_bcd8_ec086b03c2a7row1_col1 {\n",
       "            color:  red;\n",
       "        }    #T_73e3e838_d14e_11e8_bcd8_ec086b03c2a7row1_col2 {\n",
       "            color:  green;\n",
       "        }    #T_73e3e838_d14e_11e8_bcd8_ec086b03c2a7row1_col3 {\n",
       "            color:  green;\n",
       "        }    #T_73e3e838_d14e_11e8_bcd8_ec086b03c2a7row2_col0 {\n",
       "            color:  black;\n",
       "        }    #T_73e3e838_d14e_11e8_bcd8_ec086b03c2a7row2_col1 {\n",
       "            color:  black;\n",
       "        }    #T_73e3e838_d14e_11e8_bcd8_ec086b03c2a7row2_col2 {\n",
       "            color:  green;\n",
       "        }    #T_73e3e838_d14e_11e8_bcd8_ec086b03c2a7row2_col3 {\n",
       "            color:  green;\n",
       "        }    #T_73e3e838_d14e_11e8_bcd8_ec086b03c2a7row3_col0 {\n",
       "            color:  black;\n",
       "        }    #T_73e3e838_d14e_11e8_bcd8_ec086b03c2a7row3_col1 {\n",
       "            color:  red;\n",
       "        }    #T_73e3e838_d14e_11e8_bcd8_ec086b03c2a7row3_col2 {\n",
       "            color:  green;\n",
       "        }    #T_73e3e838_d14e_11e8_bcd8_ec086b03c2a7row3_col3 {\n",
       "            color:  green;\n",
       "        }    #T_73e3e838_d14e_11e8_bcd8_ec086b03c2a7row4_col0 {\n",
       "            color:  red;\n",
       "        }    #T_73e3e838_d14e_11e8_bcd8_ec086b03c2a7row4_col1 {\n",
       "            color:  black;\n",
       "        }    #T_73e3e838_d14e_11e8_bcd8_ec086b03c2a7row4_col2 {\n",
       "            color:  green;\n",
       "        }    #T_73e3e838_d14e_11e8_bcd8_ec086b03c2a7row4_col3 {\n",
       "            color:  green;\n",
       "        }    #T_73e3e838_d14e_11e8_bcd8_ec086b03c2a7row5_col0 {\n",
       "            color:  red;\n",
       "        }    #T_73e3e838_d14e_11e8_bcd8_ec086b03c2a7row5_col1 {\n",
       "            color:  black;\n",
       "        }    #T_73e3e838_d14e_11e8_bcd8_ec086b03c2a7row5_col2 {\n",
       "            color:  green;\n",
       "        }    #T_73e3e838_d14e_11e8_bcd8_ec086b03c2a7row5_col3 {\n",
       "            color:  green;\n",
       "        }    #T_73e3e838_d14e_11e8_bcd8_ec086b03c2a7row6_col0 {\n",
       "            color:  red;\n",
       "        }    #T_73e3e838_d14e_11e8_bcd8_ec086b03c2a7row6_col1 {\n",
       "            color:  black;\n",
       "        }    #T_73e3e838_d14e_11e8_bcd8_ec086b03c2a7row6_col2 {\n",
       "            color:  green;\n",
       "        }    #T_73e3e838_d14e_11e8_bcd8_ec086b03c2a7row6_col3 {\n",
       "            color:  green;\n",
       "        }    #T_73e3e838_d14e_11e8_bcd8_ec086b03c2a7row7_col0 {\n",
       "            color:  red;\n",
       "        }    #T_73e3e838_d14e_11e8_bcd8_ec086b03c2a7row7_col1 {\n",
       "            color:  black;\n",
       "        }    #T_73e3e838_d14e_11e8_bcd8_ec086b03c2a7row7_col2 {\n",
       "            color:  green;\n",
       "        }    #T_73e3e838_d14e_11e8_bcd8_ec086b03c2a7row7_col3 {\n",
       "            color:  green;\n",
       "        }</style>  \n",
       "<table id=\"T_73e3e838_d14e_11e8_bcd8_ec086b03c2a7\" > \n",
       "<thead>    <tr> \n",
       "        <th class=\"blank level0\" ></th> \n",
       "        <th class=\"col_heading level0 col0\" >A</th> \n",
       "        <th class=\"col_heading level0 col1\" >B</th> \n",
       "        <th class=\"col_heading level0 col2\" >num</th> \n",
       "        <th class=\"col_heading level0 col3\" >spec</th> \n",
       "    </tr></thead> \n",
       "<tbody>    <tr> \n",
       "        <th id=\"T_73e3e838_d14e_11e8_bcd8_ec086b03c2a7level0_row0\" class=\"row_heading level0 row0\" >0</th> \n",
       "        <td id=\"T_73e3e838_d14e_11e8_bcd8_ec086b03c2a7row0_col0\" class=\"data row0 col0\" >-1.21098</td> \n",
       "        <td id=\"T_73e3e838_d14e_11e8_bcd8_ec086b03c2a7row0_col1\" class=\"data row0 col1\" >-1.49829</td> \n",
       "        <td id=\"T_73e3e838_d14e_11e8_bcd8_ec086b03c2a7row0_col2\" class=\"data row0 col2\" >one</td> \n",
       "        <td id=\"T_73e3e838_d14e_11e8_bcd8_ec086b03c2a7row0_col3\" class=\"data row0 col3\" >human</td> \n",
       "    </tr>    <tr> \n",
       "        <th id=\"T_73e3e838_d14e_11e8_bcd8_ec086b03c2a7level0_row1\" class=\"row_heading level0 row1\" >1</th> \n",
       "        <td id=\"T_73e3e838_d14e_11e8_bcd8_ec086b03c2a7row1_col0\" class=\"data row1 col0\" >0.308326</td> \n",
       "        <td id=\"T_73e3e838_d14e_11e8_bcd8_ec086b03c2a7row1_col1\" class=\"data row1 col1\" >-0.463092</td> \n",
       "        <td id=\"T_73e3e838_d14e_11e8_bcd8_ec086b03c2a7row1_col2\" class=\"data row1 col2\" >one</td> \n",
       "        <td id=\"T_73e3e838_d14e_11e8_bcd8_ec086b03c2a7row1_col3\" class=\"data row1 col3\" >animal</td> \n",
       "    </tr>    <tr> \n",
       "        <th id=\"T_73e3e838_d14e_11e8_bcd8_ec086b03c2a7level0_row2\" class=\"row_heading level0 row2\" >2</th> \n",
       "        <td id=\"T_73e3e838_d14e_11e8_bcd8_ec086b03c2a7row2_col0\" class=\"data row2 col0\" >0.164953</td> \n",
       "        <td id=\"T_73e3e838_d14e_11e8_bcd8_ec086b03c2a7row2_col1\" class=\"data row2 col1\" >0.498471</td> \n",
       "        <td id=\"T_73e3e838_d14e_11e8_bcd8_ec086b03c2a7row2_col2\" class=\"data row2 col2\" >two</td> \n",
       "        <td id=\"T_73e3e838_d14e_11e8_bcd8_ec086b03c2a7row2_col3\" class=\"data row2 col3\" >human</td> \n",
       "    </tr>    <tr> \n",
       "        <th id=\"T_73e3e838_d14e_11e8_bcd8_ec086b03c2a7level0_row3\" class=\"row_heading level0 row3\" >3</th> \n",
       "        <td id=\"T_73e3e838_d14e_11e8_bcd8_ec086b03c2a7row3_col0\" class=\"data row3 col0\" >1.41415</td> \n",
       "        <td id=\"T_73e3e838_d14e_11e8_bcd8_ec086b03c2a7row3_col1\" class=\"data row3 col1\" >-1.66712</td> \n",
       "        <td id=\"T_73e3e838_d14e_11e8_bcd8_ec086b03c2a7row3_col2\" class=\"data row3 col2\" >three</td> \n",
       "        <td id=\"T_73e3e838_d14e_11e8_bcd8_ec086b03c2a7row3_col3\" class=\"data row3 col3\" >animal</td> \n",
       "    </tr>    <tr> \n",
       "        <th id=\"T_73e3e838_d14e_11e8_bcd8_ec086b03c2a7level0_row4\" class=\"row_heading level0 row4\" >4</th> \n",
       "        <td id=\"T_73e3e838_d14e_11e8_bcd8_ec086b03c2a7row4_col0\" class=\"data row4 col0\" >-0.748112</td> \n",
       "        <td id=\"T_73e3e838_d14e_11e8_bcd8_ec086b03c2a7row4_col1\" class=\"data row4 col1\" >0.447321</td> \n",
       "        <td id=\"T_73e3e838_d14e_11e8_bcd8_ec086b03c2a7row4_col2\" class=\"data row4 col2\" >two</td> \n",
       "        <td id=\"T_73e3e838_d14e_11e8_bcd8_ec086b03c2a7row4_col3\" class=\"data row4 col3\" >human</td> \n",
       "    </tr>    <tr> \n",
       "        <th id=\"T_73e3e838_d14e_11e8_bcd8_ec086b03c2a7level0_row5\" class=\"row_heading level0 row5\" >5</th> \n",
       "        <td id=\"T_73e3e838_d14e_11e8_bcd8_ec086b03c2a7row5_col0\" class=\"data row5 col0\" >-1.749</td> \n",
       "        <td id=\"T_73e3e838_d14e_11e8_bcd8_ec086b03c2a7row5_col1\" class=\"data row5 col1\" >1.26476</td> \n",
       "        <td id=\"T_73e3e838_d14e_11e8_bcd8_ec086b03c2a7row5_col2\" class=\"data row5 col2\" >two</td> \n",
       "        <td id=\"T_73e3e838_d14e_11e8_bcd8_ec086b03c2a7row5_col3\" class=\"data row5 col3\" >animal</td> \n",
       "    </tr>    <tr> \n",
       "        <th id=\"T_73e3e838_d14e_11e8_bcd8_ec086b03c2a7level0_row6\" class=\"row_heading level0 row6\" >6</th> \n",
       "        <td id=\"T_73e3e838_d14e_11e8_bcd8_ec086b03c2a7row6_col0\" class=\"data row6 col0\" >-0.847937</td> \n",
       "        <td id=\"T_73e3e838_d14e_11e8_bcd8_ec086b03c2a7row6_col1\" class=\"data row6 col1\" >2.43779</td> \n",
       "        <td id=\"T_73e3e838_d14e_11e8_bcd8_ec086b03c2a7row6_col2\" class=\"data row6 col2\" >one</td> \n",
       "        <td id=\"T_73e3e838_d14e_11e8_bcd8_ec086b03c2a7row6_col3\" class=\"data row6 col3\" >human</td> \n",
       "    </tr>    <tr> \n",
       "        <th id=\"T_73e3e838_d14e_11e8_bcd8_ec086b03c2a7level0_row7\" class=\"row_heading level0 row7\" >7</th> \n",
       "        <td id=\"T_73e3e838_d14e_11e8_bcd8_ec086b03c2a7row7_col0\" class=\"data row7 col0\" >-0.147338</td> \n",
       "        <td id=\"T_73e3e838_d14e_11e8_bcd8_ec086b03c2a7row7_col1\" class=\"data row7 col1\" >0.185111</td> \n",
       "        <td id=\"T_73e3e838_d14e_11e8_bcd8_ec086b03c2a7row7_col2\" class=\"data row7 col2\" >three</td> \n",
       "        <td id=\"T_73e3e838_d14e_11e8_bcd8_ec086b03c2a7row7_col3\" class=\"data row7 col3\" >animal</td> \n",
       "    </tr></tbody> \n",
       "</table> "
      ],
      "text/plain": [
       "<pandas.io.formats.style.Styler at 0x7f19631824e0>"
      ]
     },
     "execution_count": 61,
     "metadata": {},
     "output_type": "execute_result"
    }
   ],
   "source": [
    "table2.style.applymap(color_negative_red)  # we apply the function to our table"
   ]
  },
  {
   "cell_type": "markdown",
   "metadata": {},
   "source": [
    "We can also apply a function to each column of out data set. Then our function is able to do some analysis for us, for example highlight the maximum value of each column."
   ]
  },
  {
   "cell_type": "code",
   "execution_count": 62,
   "metadata": {},
   "outputs": [],
   "source": [
    "def highlight_max(s):\n",
    "    '''\n",
    "    highlight the maximum in a Column yellow.\n",
    "    '''\n",
    "    if s.dtype == float or s.dtype == int:\n",
    "        is_max = s == s.max()\n",
    "        return ['background-color: yellow' if v else '' for v in is_max]\n",
    "    else:\n",
    "        return ['' for v in s]"
   ]
  },
  {
   "cell_type": "code",
   "execution_count": 63,
   "metadata": {},
   "outputs": [
    {
     "data": {
      "text/html": [
       "<style  type=\"text/css\" >\n",
       "    #T_73e3e839_d14e_11e8_bcd8_ec086b03c2a7row3_col0 {\n",
       "            background-color:  yellow;\n",
       "        }    #T_73e3e839_d14e_11e8_bcd8_ec086b03c2a7row6_col1 {\n",
       "            background-color:  yellow;\n",
       "        }</style>  \n",
       "<table id=\"T_73e3e839_d14e_11e8_bcd8_ec086b03c2a7\" > \n",
       "<thead>    <tr> \n",
       "        <th class=\"blank level0\" ></th> \n",
       "        <th class=\"col_heading level0 col0\" >A</th> \n",
       "        <th class=\"col_heading level0 col1\" >B</th> \n",
       "        <th class=\"col_heading level0 col2\" >num</th> \n",
       "        <th class=\"col_heading level0 col3\" >spec</th> \n",
       "    </tr></thead> \n",
       "<tbody>    <tr> \n",
       "        <th id=\"T_73e3e839_d14e_11e8_bcd8_ec086b03c2a7level0_row0\" class=\"row_heading level0 row0\" >0</th> \n",
       "        <td id=\"T_73e3e839_d14e_11e8_bcd8_ec086b03c2a7row0_col0\" class=\"data row0 col0\" >-1.21098</td> \n",
       "        <td id=\"T_73e3e839_d14e_11e8_bcd8_ec086b03c2a7row0_col1\" class=\"data row0 col1\" >-1.49829</td> \n",
       "        <td id=\"T_73e3e839_d14e_11e8_bcd8_ec086b03c2a7row0_col2\" class=\"data row0 col2\" >one</td> \n",
       "        <td id=\"T_73e3e839_d14e_11e8_bcd8_ec086b03c2a7row0_col3\" class=\"data row0 col3\" >human</td> \n",
       "    </tr>    <tr> \n",
       "        <th id=\"T_73e3e839_d14e_11e8_bcd8_ec086b03c2a7level0_row1\" class=\"row_heading level0 row1\" >1</th> \n",
       "        <td id=\"T_73e3e839_d14e_11e8_bcd8_ec086b03c2a7row1_col0\" class=\"data row1 col0\" >0.308326</td> \n",
       "        <td id=\"T_73e3e839_d14e_11e8_bcd8_ec086b03c2a7row1_col1\" class=\"data row1 col1\" >-0.463092</td> \n",
       "        <td id=\"T_73e3e839_d14e_11e8_bcd8_ec086b03c2a7row1_col2\" class=\"data row1 col2\" >one</td> \n",
       "        <td id=\"T_73e3e839_d14e_11e8_bcd8_ec086b03c2a7row1_col3\" class=\"data row1 col3\" >animal</td> \n",
       "    </tr>    <tr> \n",
       "        <th id=\"T_73e3e839_d14e_11e8_bcd8_ec086b03c2a7level0_row2\" class=\"row_heading level0 row2\" >2</th> \n",
       "        <td id=\"T_73e3e839_d14e_11e8_bcd8_ec086b03c2a7row2_col0\" class=\"data row2 col0\" >0.164953</td> \n",
       "        <td id=\"T_73e3e839_d14e_11e8_bcd8_ec086b03c2a7row2_col1\" class=\"data row2 col1\" >0.498471</td> \n",
       "        <td id=\"T_73e3e839_d14e_11e8_bcd8_ec086b03c2a7row2_col2\" class=\"data row2 col2\" >two</td> \n",
       "        <td id=\"T_73e3e839_d14e_11e8_bcd8_ec086b03c2a7row2_col3\" class=\"data row2 col3\" >human</td> \n",
       "    </tr>    <tr> \n",
       "        <th id=\"T_73e3e839_d14e_11e8_bcd8_ec086b03c2a7level0_row3\" class=\"row_heading level0 row3\" >3</th> \n",
       "        <td id=\"T_73e3e839_d14e_11e8_bcd8_ec086b03c2a7row3_col0\" class=\"data row3 col0\" >1.41415</td> \n",
       "        <td id=\"T_73e3e839_d14e_11e8_bcd8_ec086b03c2a7row3_col1\" class=\"data row3 col1\" >-1.66712</td> \n",
       "        <td id=\"T_73e3e839_d14e_11e8_bcd8_ec086b03c2a7row3_col2\" class=\"data row3 col2\" >three</td> \n",
       "        <td id=\"T_73e3e839_d14e_11e8_bcd8_ec086b03c2a7row3_col3\" class=\"data row3 col3\" >animal</td> \n",
       "    </tr>    <tr> \n",
       "        <th id=\"T_73e3e839_d14e_11e8_bcd8_ec086b03c2a7level0_row4\" class=\"row_heading level0 row4\" >4</th> \n",
       "        <td id=\"T_73e3e839_d14e_11e8_bcd8_ec086b03c2a7row4_col0\" class=\"data row4 col0\" >-0.748112</td> \n",
       "        <td id=\"T_73e3e839_d14e_11e8_bcd8_ec086b03c2a7row4_col1\" class=\"data row4 col1\" >0.447321</td> \n",
       "        <td id=\"T_73e3e839_d14e_11e8_bcd8_ec086b03c2a7row4_col2\" class=\"data row4 col2\" >two</td> \n",
       "        <td id=\"T_73e3e839_d14e_11e8_bcd8_ec086b03c2a7row4_col3\" class=\"data row4 col3\" >human</td> \n",
       "    </tr>    <tr> \n",
       "        <th id=\"T_73e3e839_d14e_11e8_bcd8_ec086b03c2a7level0_row5\" class=\"row_heading level0 row5\" >5</th> \n",
       "        <td id=\"T_73e3e839_d14e_11e8_bcd8_ec086b03c2a7row5_col0\" class=\"data row5 col0\" >-1.749</td> \n",
       "        <td id=\"T_73e3e839_d14e_11e8_bcd8_ec086b03c2a7row5_col1\" class=\"data row5 col1\" >1.26476</td> \n",
       "        <td id=\"T_73e3e839_d14e_11e8_bcd8_ec086b03c2a7row5_col2\" class=\"data row5 col2\" >two</td> \n",
       "        <td id=\"T_73e3e839_d14e_11e8_bcd8_ec086b03c2a7row5_col3\" class=\"data row5 col3\" >animal</td> \n",
       "    </tr>    <tr> \n",
       "        <th id=\"T_73e3e839_d14e_11e8_bcd8_ec086b03c2a7level0_row6\" class=\"row_heading level0 row6\" >6</th> \n",
       "        <td id=\"T_73e3e839_d14e_11e8_bcd8_ec086b03c2a7row6_col0\" class=\"data row6 col0\" >-0.847937</td> \n",
       "        <td id=\"T_73e3e839_d14e_11e8_bcd8_ec086b03c2a7row6_col1\" class=\"data row6 col1\" >2.43779</td> \n",
       "        <td id=\"T_73e3e839_d14e_11e8_bcd8_ec086b03c2a7row6_col2\" class=\"data row6 col2\" >one</td> \n",
       "        <td id=\"T_73e3e839_d14e_11e8_bcd8_ec086b03c2a7row6_col3\" class=\"data row6 col3\" >human</td> \n",
       "    </tr>    <tr> \n",
       "        <th id=\"T_73e3e839_d14e_11e8_bcd8_ec086b03c2a7level0_row7\" class=\"row_heading level0 row7\" >7</th> \n",
       "        <td id=\"T_73e3e839_d14e_11e8_bcd8_ec086b03c2a7row7_col0\" class=\"data row7 col0\" >-0.147338</td> \n",
       "        <td id=\"T_73e3e839_d14e_11e8_bcd8_ec086b03c2a7row7_col1\" class=\"data row7 col1\" >0.185111</td> \n",
       "        <td id=\"T_73e3e839_d14e_11e8_bcd8_ec086b03c2a7row7_col2\" class=\"data row7 col2\" >three</td> \n",
       "        <td id=\"T_73e3e839_d14e_11e8_bcd8_ec086b03c2a7row7_col3\" class=\"data row7 col3\" >animal</td> \n",
       "    </tr></tbody> \n",
       "</table> "
      ],
      "text/plain": [
       "<pandas.io.formats.style.Styler at 0x7f1962ac7da0>"
      ]
     },
     "execution_count": 63,
     "metadata": {},
     "output_type": "execute_result"
    }
   ],
   "source": [
    "table2.style.apply(highlight_max)"
   ]
  },
  {
   "cell_type": "markdown",
   "metadata": {},
   "source": [
    "<div class=\"alert alert-block alert-info\">\n",
    "What do you think? Is it possible to apply both functions to our table to highlight negative and max values at the same time?\n",
    "</div>"
   ]
  },
  {
   "cell_type": "code",
   "execution_count": 64,
   "metadata": {},
   "outputs": [
    {
     "data": {
      "text/html": [
       "<style  type=\"text/css\" >\n",
       "    #T_73e3e83a_d14e_11e8_bcd8_ec086b03c2a7row0_col0 {\n",
       "            color:  red;\n",
       "            : ;\n",
       "        }    #T_73e3e83a_d14e_11e8_bcd8_ec086b03c2a7row0_col1 {\n",
       "            color:  red;\n",
       "            : ;\n",
       "        }    #T_73e3e83a_d14e_11e8_bcd8_ec086b03c2a7row0_col2 {\n",
       "            color:  green;\n",
       "            : ;\n",
       "        }    #T_73e3e83a_d14e_11e8_bcd8_ec086b03c2a7row0_col3 {\n",
       "            color:  green;\n",
       "            : ;\n",
       "        }    #T_73e3e83a_d14e_11e8_bcd8_ec086b03c2a7row1_col0 {\n",
       "            color:  black;\n",
       "            : ;\n",
       "        }    #T_73e3e83a_d14e_11e8_bcd8_ec086b03c2a7row1_col1 {\n",
       "            color:  red;\n",
       "            : ;\n",
       "        }    #T_73e3e83a_d14e_11e8_bcd8_ec086b03c2a7row1_col2 {\n",
       "            color:  green;\n",
       "            : ;\n",
       "        }    #T_73e3e83a_d14e_11e8_bcd8_ec086b03c2a7row1_col3 {\n",
       "            color:  green;\n",
       "            : ;\n",
       "        }    #T_73e3e83a_d14e_11e8_bcd8_ec086b03c2a7row2_col0 {\n",
       "            color:  black;\n",
       "            : ;\n",
       "        }    #T_73e3e83a_d14e_11e8_bcd8_ec086b03c2a7row2_col1 {\n",
       "            color:  black;\n",
       "            : ;\n",
       "        }    #T_73e3e83a_d14e_11e8_bcd8_ec086b03c2a7row2_col2 {\n",
       "            color:  green;\n",
       "            : ;\n",
       "        }    #T_73e3e83a_d14e_11e8_bcd8_ec086b03c2a7row2_col3 {\n",
       "            color:  green;\n",
       "            : ;\n",
       "        }    #T_73e3e83a_d14e_11e8_bcd8_ec086b03c2a7row3_col0 {\n",
       "            color:  black;\n",
       "            background-color:  yellow;\n",
       "        }    #T_73e3e83a_d14e_11e8_bcd8_ec086b03c2a7row3_col1 {\n",
       "            color:  red;\n",
       "            : ;\n",
       "        }    #T_73e3e83a_d14e_11e8_bcd8_ec086b03c2a7row3_col2 {\n",
       "            color:  green;\n",
       "            : ;\n",
       "        }    #T_73e3e83a_d14e_11e8_bcd8_ec086b03c2a7row3_col3 {\n",
       "            color:  green;\n",
       "            : ;\n",
       "        }    #T_73e3e83a_d14e_11e8_bcd8_ec086b03c2a7row4_col0 {\n",
       "            color:  red;\n",
       "            : ;\n",
       "        }    #T_73e3e83a_d14e_11e8_bcd8_ec086b03c2a7row4_col1 {\n",
       "            color:  black;\n",
       "            : ;\n",
       "        }    #T_73e3e83a_d14e_11e8_bcd8_ec086b03c2a7row4_col2 {\n",
       "            color:  green;\n",
       "            : ;\n",
       "        }    #T_73e3e83a_d14e_11e8_bcd8_ec086b03c2a7row4_col3 {\n",
       "            color:  green;\n",
       "            : ;\n",
       "        }    #T_73e3e83a_d14e_11e8_bcd8_ec086b03c2a7row5_col0 {\n",
       "            color:  red;\n",
       "            : ;\n",
       "        }    #T_73e3e83a_d14e_11e8_bcd8_ec086b03c2a7row5_col1 {\n",
       "            color:  black;\n",
       "            : ;\n",
       "        }    #T_73e3e83a_d14e_11e8_bcd8_ec086b03c2a7row5_col2 {\n",
       "            color:  green;\n",
       "            : ;\n",
       "        }    #T_73e3e83a_d14e_11e8_bcd8_ec086b03c2a7row5_col3 {\n",
       "            color:  green;\n",
       "            : ;\n",
       "        }    #T_73e3e83a_d14e_11e8_bcd8_ec086b03c2a7row6_col0 {\n",
       "            color:  red;\n",
       "            : ;\n",
       "        }    #T_73e3e83a_d14e_11e8_bcd8_ec086b03c2a7row6_col1 {\n",
       "            color:  black;\n",
       "            background-color:  yellow;\n",
       "        }    #T_73e3e83a_d14e_11e8_bcd8_ec086b03c2a7row6_col2 {\n",
       "            color:  green;\n",
       "            : ;\n",
       "        }    #T_73e3e83a_d14e_11e8_bcd8_ec086b03c2a7row6_col3 {\n",
       "            color:  green;\n",
       "            : ;\n",
       "        }    #T_73e3e83a_d14e_11e8_bcd8_ec086b03c2a7row7_col0 {\n",
       "            color:  red;\n",
       "            : ;\n",
       "        }    #T_73e3e83a_d14e_11e8_bcd8_ec086b03c2a7row7_col1 {\n",
       "            color:  black;\n",
       "            : ;\n",
       "        }    #T_73e3e83a_d14e_11e8_bcd8_ec086b03c2a7row7_col2 {\n",
       "            color:  green;\n",
       "            : ;\n",
       "        }    #T_73e3e83a_d14e_11e8_bcd8_ec086b03c2a7row7_col3 {\n",
       "            color:  green;\n",
       "            : ;\n",
       "        }</style>  \n",
       "<table id=\"T_73e3e83a_d14e_11e8_bcd8_ec086b03c2a7\" > \n",
       "<thead>    <tr> \n",
       "        <th class=\"blank level0\" ></th> \n",
       "        <th class=\"col_heading level0 col0\" >A</th> \n",
       "        <th class=\"col_heading level0 col1\" >B</th> \n",
       "        <th class=\"col_heading level0 col2\" >num</th> \n",
       "        <th class=\"col_heading level0 col3\" >spec</th> \n",
       "    </tr></thead> \n",
       "<tbody>    <tr> \n",
       "        <th id=\"T_73e3e83a_d14e_11e8_bcd8_ec086b03c2a7level0_row0\" class=\"row_heading level0 row0\" >0</th> \n",
       "        <td id=\"T_73e3e83a_d14e_11e8_bcd8_ec086b03c2a7row0_col0\" class=\"data row0 col0\" >-1.21098</td> \n",
       "        <td id=\"T_73e3e83a_d14e_11e8_bcd8_ec086b03c2a7row0_col1\" class=\"data row0 col1\" >-1.49829</td> \n",
       "        <td id=\"T_73e3e83a_d14e_11e8_bcd8_ec086b03c2a7row0_col2\" class=\"data row0 col2\" >one</td> \n",
       "        <td id=\"T_73e3e83a_d14e_11e8_bcd8_ec086b03c2a7row0_col3\" class=\"data row0 col3\" >human</td> \n",
       "    </tr>    <tr> \n",
       "        <th id=\"T_73e3e83a_d14e_11e8_bcd8_ec086b03c2a7level0_row1\" class=\"row_heading level0 row1\" >1</th> \n",
       "        <td id=\"T_73e3e83a_d14e_11e8_bcd8_ec086b03c2a7row1_col0\" class=\"data row1 col0\" >0.308326</td> \n",
       "        <td id=\"T_73e3e83a_d14e_11e8_bcd8_ec086b03c2a7row1_col1\" class=\"data row1 col1\" >-0.463092</td> \n",
       "        <td id=\"T_73e3e83a_d14e_11e8_bcd8_ec086b03c2a7row1_col2\" class=\"data row1 col2\" >one</td> \n",
       "        <td id=\"T_73e3e83a_d14e_11e8_bcd8_ec086b03c2a7row1_col3\" class=\"data row1 col3\" >animal</td> \n",
       "    </tr>    <tr> \n",
       "        <th id=\"T_73e3e83a_d14e_11e8_bcd8_ec086b03c2a7level0_row2\" class=\"row_heading level0 row2\" >2</th> \n",
       "        <td id=\"T_73e3e83a_d14e_11e8_bcd8_ec086b03c2a7row2_col0\" class=\"data row2 col0\" >0.164953</td> \n",
       "        <td id=\"T_73e3e83a_d14e_11e8_bcd8_ec086b03c2a7row2_col1\" class=\"data row2 col1\" >0.498471</td> \n",
       "        <td id=\"T_73e3e83a_d14e_11e8_bcd8_ec086b03c2a7row2_col2\" class=\"data row2 col2\" >two</td> \n",
       "        <td id=\"T_73e3e83a_d14e_11e8_bcd8_ec086b03c2a7row2_col3\" class=\"data row2 col3\" >human</td> \n",
       "    </tr>    <tr> \n",
       "        <th id=\"T_73e3e83a_d14e_11e8_bcd8_ec086b03c2a7level0_row3\" class=\"row_heading level0 row3\" >3</th> \n",
       "        <td id=\"T_73e3e83a_d14e_11e8_bcd8_ec086b03c2a7row3_col0\" class=\"data row3 col0\" >1.41415</td> \n",
       "        <td id=\"T_73e3e83a_d14e_11e8_bcd8_ec086b03c2a7row3_col1\" class=\"data row3 col1\" >-1.66712</td> \n",
       "        <td id=\"T_73e3e83a_d14e_11e8_bcd8_ec086b03c2a7row3_col2\" class=\"data row3 col2\" >three</td> \n",
       "        <td id=\"T_73e3e83a_d14e_11e8_bcd8_ec086b03c2a7row3_col3\" class=\"data row3 col3\" >animal</td> \n",
       "    </tr>    <tr> \n",
       "        <th id=\"T_73e3e83a_d14e_11e8_bcd8_ec086b03c2a7level0_row4\" class=\"row_heading level0 row4\" >4</th> \n",
       "        <td id=\"T_73e3e83a_d14e_11e8_bcd8_ec086b03c2a7row4_col0\" class=\"data row4 col0\" >-0.748112</td> \n",
       "        <td id=\"T_73e3e83a_d14e_11e8_bcd8_ec086b03c2a7row4_col1\" class=\"data row4 col1\" >0.447321</td> \n",
       "        <td id=\"T_73e3e83a_d14e_11e8_bcd8_ec086b03c2a7row4_col2\" class=\"data row4 col2\" >two</td> \n",
       "        <td id=\"T_73e3e83a_d14e_11e8_bcd8_ec086b03c2a7row4_col3\" class=\"data row4 col3\" >human</td> \n",
       "    </tr>    <tr> \n",
       "        <th id=\"T_73e3e83a_d14e_11e8_bcd8_ec086b03c2a7level0_row5\" class=\"row_heading level0 row5\" >5</th> \n",
       "        <td id=\"T_73e3e83a_d14e_11e8_bcd8_ec086b03c2a7row5_col0\" class=\"data row5 col0\" >-1.749</td> \n",
       "        <td id=\"T_73e3e83a_d14e_11e8_bcd8_ec086b03c2a7row5_col1\" class=\"data row5 col1\" >1.26476</td> \n",
       "        <td id=\"T_73e3e83a_d14e_11e8_bcd8_ec086b03c2a7row5_col2\" class=\"data row5 col2\" >two</td> \n",
       "        <td id=\"T_73e3e83a_d14e_11e8_bcd8_ec086b03c2a7row5_col3\" class=\"data row5 col3\" >animal</td> \n",
       "    </tr>    <tr> \n",
       "        <th id=\"T_73e3e83a_d14e_11e8_bcd8_ec086b03c2a7level0_row6\" class=\"row_heading level0 row6\" >6</th> \n",
       "        <td id=\"T_73e3e83a_d14e_11e8_bcd8_ec086b03c2a7row6_col0\" class=\"data row6 col0\" >-0.847937</td> \n",
       "        <td id=\"T_73e3e83a_d14e_11e8_bcd8_ec086b03c2a7row6_col1\" class=\"data row6 col1\" >2.43779</td> \n",
       "        <td id=\"T_73e3e83a_d14e_11e8_bcd8_ec086b03c2a7row6_col2\" class=\"data row6 col2\" >one</td> \n",
       "        <td id=\"T_73e3e83a_d14e_11e8_bcd8_ec086b03c2a7row6_col3\" class=\"data row6 col3\" >human</td> \n",
       "    </tr>    <tr> \n",
       "        <th id=\"T_73e3e83a_d14e_11e8_bcd8_ec086b03c2a7level0_row7\" class=\"row_heading level0 row7\" >7</th> \n",
       "        <td id=\"T_73e3e83a_d14e_11e8_bcd8_ec086b03c2a7row7_col0\" class=\"data row7 col0\" >-0.147338</td> \n",
       "        <td id=\"T_73e3e83a_d14e_11e8_bcd8_ec086b03c2a7row7_col1\" class=\"data row7 col1\" >0.185111</td> \n",
       "        <td id=\"T_73e3e83a_d14e_11e8_bcd8_ec086b03c2a7row7_col2\" class=\"data row7 col2\" >three</td> \n",
       "        <td id=\"T_73e3e83a_d14e_11e8_bcd8_ec086b03c2a7row7_col3\" class=\"data row7 col3\" >animal</td> \n",
       "    </tr></tbody> \n",
       "</table> "
      ],
      "text/plain": [
       "<pandas.io.formats.style.Styler at 0x7f1962c024e0>"
      ]
     },
     "execution_count": 64,
     "metadata": {},
     "output_type": "execute_result"
    }
   ],
   "source": [
    "#@solution\n",
    "table2.style.applymap(color_negative_red).apply(highlight_max)"
   ]
  },
  {
   "cell_type": "markdown",
   "metadata": {},
   "source": [
    "Finally, we can save our data as a CSV file for example. We could then load this file again with python for later analysis or with MS Exel for use in a document. It is also possible to print a pandas table as LaTeX code."
   ]
  },
  {
   "cell_type": "markdown",
   "metadata": {},
   "source": [
    "<div class=\"alert alert-block alert-info\">\n",
    "Edit the function below to highlight min values inside a column in blue. Apply both functions, highlight_max and highlight_min, to the table which is prepared for you. \n",
    "</div>"
   ]
  },
  {
   "cell_type": "code",
   "execution_count": 65,
   "metadata": {},
   "outputs": [],
   "source": [
    "def highlight_max(s):             # <- change name\n",
    "    '''\n",
    "    highlight the maximum in a Column yellow.\n",
    "    '''\n",
    "    if s.dtype == float or s.dtype == int:\n",
    "        is_max = s == s.max()    #  <- chnage to min\n",
    "        return ['background-color: yellow' if v else '' for v in is_max]  # <- change to min\n",
    "    else:\n",
    "        return ['' for v in s]"
   ]
  },
  {
   "cell_type": "code",
   "execution_count": 66,
   "metadata": {},
   "outputs": [],
   "source": [
    "#@solution\n",
    "def highlight_min(s):            \n",
    "    '''\n",
    "    highlight the maximum in a Column yellow.\n",
    "    '''\n",
    "    if s.dtype == float or s.dtype == int:\n",
    "        is_min = s == s.min()    #  <- chnage to min\n",
    "        return ['background-color: blue' if v else '' for v in is_min]  # <- change to min\n",
    "    else:\n",
    "        return ['' for v in s]"
   ]
  },
  {
   "cell_type": "code",
   "execution_count": 67,
   "metadata": {},
   "outputs": [],
   "source": [
    "# you can use this dummy data\n",
    "data = np.random.random(100).reshape((20,5))\n",
    "table = pd.DataFrame(data, columns=[\"obs1\",\"obs2\",\"obs3\",\"obs4\",\"obs5\"])"
   ]
  },
  {
   "cell_type": "code",
   "execution_count": 68,
   "metadata": {},
   "outputs": [
    {
     "data": {
      "text/html": [
       "<style  type=\"text/css\" >\n",
       "    #T_73e3e83b_d14e_11e8_bcd8_ec086b03c2a7row0_col0 {\n",
       "            background-color:  yellow;\n",
       "            : ;\n",
       "        }    #T_73e3e83b_d14e_11e8_bcd8_ec086b03c2a7row4_col4 {\n",
       "            : ;\n",
       "            background-color:  blue;\n",
       "        }    #T_73e3e83b_d14e_11e8_bcd8_ec086b03c2a7row5_col2 {\n",
       "            : ;\n",
       "            background-color:  blue;\n",
       "        }    #T_73e3e83b_d14e_11e8_bcd8_ec086b03c2a7row5_col4 {\n",
       "            background-color:  yellow;\n",
       "            : ;\n",
       "        }    #T_73e3e83b_d14e_11e8_bcd8_ec086b03c2a7row7_col1 {\n",
       "            : ;\n",
       "            background-color:  blue;\n",
       "        }    #T_73e3e83b_d14e_11e8_bcd8_ec086b03c2a7row8_col0 {\n",
       "            : ;\n",
       "            background-color:  blue;\n",
       "        }    #T_73e3e83b_d14e_11e8_bcd8_ec086b03c2a7row10_col3 {\n",
       "            background-color:  yellow;\n",
       "            : ;\n",
       "        }    #T_73e3e83b_d14e_11e8_bcd8_ec086b03c2a7row11_col1 {\n",
       "            background-color:  yellow;\n",
       "            : ;\n",
       "        }    #T_73e3e83b_d14e_11e8_bcd8_ec086b03c2a7row14_col2 {\n",
       "            background-color:  yellow;\n",
       "            : ;\n",
       "        }    #T_73e3e83b_d14e_11e8_bcd8_ec086b03c2a7row17_col3 {\n",
       "            : ;\n",
       "            background-color:  blue;\n",
       "        }</style>  \n",
       "<table id=\"T_73e3e83b_d14e_11e8_bcd8_ec086b03c2a7\" > \n",
       "<thead>    <tr> \n",
       "        <th class=\"blank level0\" ></th> \n",
       "        <th class=\"col_heading level0 col0\" >obs1</th> \n",
       "        <th class=\"col_heading level0 col1\" >obs2</th> \n",
       "        <th class=\"col_heading level0 col2\" >obs3</th> \n",
       "        <th class=\"col_heading level0 col3\" >obs4</th> \n",
       "        <th class=\"col_heading level0 col4\" >obs5</th> \n",
       "    </tr></thead> \n",
       "<tbody>    <tr> \n",
       "        <th id=\"T_73e3e83b_d14e_11e8_bcd8_ec086b03c2a7level0_row0\" class=\"row_heading level0 row0\" >0</th> \n",
       "        <td id=\"T_73e3e83b_d14e_11e8_bcd8_ec086b03c2a7row0_col0\" class=\"data row0 col0\" >0.939948</td> \n",
       "        <td id=\"T_73e3e83b_d14e_11e8_bcd8_ec086b03c2a7row0_col1\" class=\"data row0 col1\" >0.334548</td> \n",
       "        <td id=\"T_73e3e83b_d14e_11e8_bcd8_ec086b03c2a7row0_col2\" class=\"data row0 col2\" >0.899827</td> \n",
       "        <td id=\"T_73e3e83b_d14e_11e8_bcd8_ec086b03c2a7row0_col3\" class=\"data row0 col3\" >0.147216</td> \n",
       "        <td id=\"T_73e3e83b_d14e_11e8_bcd8_ec086b03c2a7row0_col4\" class=\"data row0 col4\" >0.775747</td> \n",
       "    </tr>    <tr> \n",
       "        <th id=\"T_73e3e83b_d14e_11e8_bcd8_ec086b03c2a7level0_row1\" class=\"row_heading level0 row1\" >1</th> \n",
       "        <td id=\"T_73e3e83b_d14e_11e8_bcd8_ec086b03c2a7row1_col0\" class=\"data row1 col0\" >0.174175</td> \n",
       "        <td id=\"T_73e3e83b_d14e_11e8_bcd8_ec086b03c2a7row1_col1\" class=\"data row1 col1\" >0.154564</td> \n",
       "        <td id=\"T_73e3e83b_d14e_11e8_bcd8_ec086b03c2a7row1_col2\" class=\"data row1 col2\" >0.803497</td> \n",
       "        <td id=\"T_73e3e83b_d14e_11e8_bcd8_ec086b03c2a7row1_col3\" class=\"data row1 col3\" >0.607806</td> \n",
       "        <td id=\"T_73e3e83b_d14e_11e8_bcd8_ec086b03c2a7row1_col4\" class=\"data row1 col4\" >0.301597</td> \n",
       "    </tr>    <tr> \n",
       "        <th id=\"T_73e3e83b_d14e_11e8_bcd8_ec086b03c2a7level0_row2\" class=\"row_heading level0 row2\" >2</th> \n",
       "        <td id=\"T_73e3e83b_d14e_11e8_bcd8_ec086b03c2a7row2_col0\" class=\"data row2 col0\" >0.501094</td> \n",
       "        <td id=\"T_73e3e83b_d14e_11e8_bcd8_ec086b03c2a7row2_col1\" class=\"data row2 col1\" >0.134475</td> \n",
       "        <td id=\"T_73e3e83b_d14e_11e8_bcd8_ec086b03c2a7row2_col2\" class=\"data row2 col2\" >0.575804</td> \n",
       "        <td id=\"T_73e3e83b_d14e_11e8_bcd8_ec086b03c2a7row2_col3\" class=\"data row2 col3\" >0.863108</td> \n",
       "        <td id=\"T_73e3e83b_d14e_11e8_bcd8_ec086b03c2a7row2_col4\" class=\"data row2 col4\" >0.800651</td> \n",
       "    </tr>    <tr> \n",
       "        <th id=\"T_73e3e83b_d14e_11e8_bcd8_ec086b03c2a7level0_row3\" class=\"row_heading level0 row3\" >3</th> \n",
       "        <td id=\"T_73e3e83b_d14e_11e8_bcd8_ec086b03c2a7row3_col0\" class=\"data row3 col0\" >0.778138</td> \n",
       "        <td id=\"T_73e3e83b_d14e_11e8_bcd8_ec086b03c2a7row3_col1\" class=\"data row3 col1\" >0.607063</td> \n",
       "        <td id=\"T_73e3e83b_d14e_11e8_bcd8_ec086b03c2a7row3_col2\" class=\"data row3 col2\" >0.825994</td> \n",
       "        <td id=\"T_73e3e83b_d14e_11e8_bcd8_ec086b03c2a7row3_col3\" class=\"data row3 col3\" >0.15644</td> \n",
       "        <td id=\"T_73e3e83b_d14e_11e8_bcd8_ec086b03c2a7row3_col4\" class=\"data row3 col4\" >0.840779</td> \n",
       "    </tr>    <tr> \n",
       "        <th id=\"T_73e3e83b_d14e_11e8_bcd8_ec086b03c2a7level0_row4\" class=\"row_heading level0 row4\" >4</th> \n",
       "        <td id=\"T_73e3e83b_d14e_11e8_bcd8_ec086b03c2a7row4_col0\" class=\"data row4 col0\" >0.142517</td> \n",
       "        <td id=\"T_73e3e83b_d14e_11e8_bcd8_ec086b03c2a7row4_col1\" class=\"data row4 col1\" >0.764588</td> \n",
       "        <td id=\"T_73e3e83b_d14e_11e8_bcd8_ec086b03c2a7row4_col2\" class=\"data row4 col2\" >0.774118</td> \n",
       "        <td id=\"T_73e3e83b_d14e_11e8_bcd8_ec086b03c2a7row4_col3\" class=\"data row4 col3\" >0.241164</td> \n",
       "        <td id=\"T_73e3e83b_d14e_11e8_bcd8_ec086b03c2a7row4_col4\" class=\"data row4 col4\" >0.0780592</td> \n",
       "    </tr>    <tr> \n",
       "        <th id=\"T_73e3e83b_d14e_11e8_bcd8_ec086b03c2a7level0_row5\" class=\"row_heading level0 row5\" >5</th> \n",
       "        <td id=\"T_73e3e83b_d14e_11e8_bcd8_ec086b03c2a7row5_col0\" class=\"data row5 col0\" >0.636712</td> \n",
       "        <td id=\"T_73e3e83b_d14e_11e8_bcd8_ec086b03c2a7row5_col1\" class=\"data row5 col1\" >0.367565</td> \n",
       "        <td id=\"T_73e3e83b_d14e_11e8_bcd8_ec086b03c2a7row5_col2\" class=\"data row5 col2\" >0.0533859</td> \n",
       "        <td id=\"T_73e3e83b_d14e_11e8_bcd8_ec086b03c2a7row5_col3\" class=\"data row5 col3\" >0.228382</td> \n",
       "        <td id=\"T_73e3e83b_d14e_11e8_bcd8_ec086b03c2a7row5_col4\" class=\"data row5 col4\" >0.917728</td> \n",
       "    </tr>    <tr> \n",
       "        <th id=\"T_73e3e83b_d14e_11e8_bcd8_ec086b03c2a7level0_row6\" class=\"row_heading level0 row6\" >6</th> \n",
       "        <td id=\"T_73e3e83b_d14e_11e8_bcd8_ec086b03c2a7row6_col0\" class=\"data row6 col0\" >0.0328603</td> \n",
       "        <td id=\"T_73e3e83b_d14e_11e8_bcd8_ec086b03c2a7row6_col1\" class=\"data row6 col1\" >0.94483</td> \n",
       "        <td id=\"T_73e3e83b_d14e_11e8_bcd8_ec086b03c2a7row6_col2\" class=\"data row6 col2\" >0.519796</td> \n",
       "        <td id=\"T_73e3e83b_d14e_11e8_bcd8_ec086b03c2a7row6_col3\" class=\"data row6 col3\" >0.212531</td> \n",
       "        <td id=\"T_73e3e83b_d14e_11e8_bcd8_ec086b03c2a7row6_col4\" class=\"data row6 col4\" >0.349616</td> \n",
       "    </tr>    <tr> \n",
       "        <th id=\"T_73e3e83b_d14e_11e8_bcd8_ec086b03c2a7level0_row7\" class=\"row_heading level0 row7\" >7</th> \n",
       "        <td id=\"T_73e3e83b_d14e_11e8_bcd8_ec086b03c2a7row7_col0\" class=\"data row7 col0\" >0.542042</td> \n",
       "        <td id=\"T_73e3e83b_d14e_11e8_bcd8_ec086b03c2a7row7_col1\" class=\"data row7 col1\" >0.00747674</td> \n",
       "        <td id=\"T_73e3e83b_d14e_11e8_bcd8_ec086b03c2a7row7_col2\" class=\"data row7 col2\" >0.48986</td> \n",
       "        <td id=\"T_73e3e83b_d14e_11e8_bcd8_ec086b03c2a7row7_col3\" class=\"data row7 col3\" >0.596269</td> \n",
       "        <td id=\"T_73e3e83b_d14e_11e8_bcd8_ec086b03c2a7row7_col4\" class=\"data row7 col4\" >0.397936</td> \n",
       "    </tr>    <tr> \n",
       "        <th id=\"T_73e3e83b_d14e_11e8_bcd8_ec086b03c2a7level0_row8\" class=\"row_heading level0 row8\" >8</th> \n",
       "        <td id=\"T_73e3e83b_d14e_11e8_bcd8_ec086b03c2a7row8_col0\" class=\"data row8 col0\" >0.00514612</td> \n",
       "        <td id=\"T_73e3e83b_d14e_11e8_bcd8_ec086b03c2a7row8_col1\" class=\"data row8 col1\" >0.178167</td> \n",
       "        <td id=\"T_73e3e83b_d14e_11e8_bcd8_ec086b03c2a7row8_col2\" class=\"data row8 col2\" >0.0704437</td> \n",
       "        <td id=\"T_73e3e83b_d14e_11e8_bcd8_ec086b03c2a7row8_col3\" class=\"data row8 col3\" >0.16072</td> \n",
       "        <td id=\"T_73e3e83b_d14e_11e8_bcd8_ec086b03c2a7row8_col4\" class=\"data row8 col4\" >0.530208</td> \n",
       "    </tr>    <tr> \n",
       "        <th id=\"T_73e3e83b_d14e_11e8_bcd8_ec086b03c2a7level0_row9\" class=\"row_heading level0 row9\" >9</th> \n",
       "        <td id=\"T_73e3e83b_d14e_11e8_bcd8_ec086b03c2a7row9_col0\" class=\"data row9 col0\" >0.244962</td> \n",
       "        <td id=\"T_73e3e83b_d14e_11e8_bcd8_ec086b03c2a7row9_col1\" class=\"data row9 col1\" >0.730792</td> \n",
       "        <td id=\"T_73e3e83b_d14e_11e8_bcd8_ec086b03c2a7row9_col2\" class=\"data row9 col2\" >0.828395</td> \n",
       "        <td id=\"T_73e3e83b_d14e_11e8_bcd8_ec086b03c2a7row9_col3\" class=\"data row9 col3\" >0.613124</td> \n",
       "        <td id=\"T_73e3e83b_d14e_11e8_bcd8_ec086b03c2a7row9_col4\" class=\"data row9 col4\" >0.190856</td> \n",
       "    </tr>    <tr> \n",
       "        <th id=\"T_73e3e83b_d14e_11e8_bcd8_ec086b03c2a7level0_row10\" class=\"row_heading level0 row10\" >10</th> \n",
       "        <td id=\"T_73e3e83b_d14e_11e8_bcd8_ec086b03c2a7row10_col0\" class=\"data row10 col0\" >0.474047</td> \n",
       "        <td id=\"T_73e3e83b_d14e_11e8_bcd8_ec086b03c2a7row10_col1\" class=\"data row10 col1\" >0.405716</td> \n",
       "        <td id=\"T_73e3e83b_d14e_11e8_bcd8_ec086b03c2a7row10_col2\" class=\"data row10 col2\" >0.806865</td> \n",
       "        <td id=\"T_73e3e83b_d14e_11e8_bcd8_ec086b03c2a7row10_col3\" class=\"data row10 col3\" >0.996655</td> \n",
       "        <td id=\"T_73e3e83b_d14e_11e8_bcd8_ec086b03c2a7row10_col4\" class=\"data row10 col4\" >0.832068</td> \n",
       "    </tr>    <tr> \n",
       "        <th id=\"T_73e3e83b_d14e_11e8_bcd8_ec086b03c2a7level0_row11\" class=\"row_heading level0 row11\" >11</th> \n",
       "        <td id=\"T_73e3e83b_d14e_11e8_bcd8_ec086b03c2a7row11_col0\" class=\"data row11 col0\" >0.855074</td> \n",
       "        <td id=\"T_73e3e83b_d14e_11e8_bcd8_ec086b03c2a7row11_col1\" class=\"data row11 col1\" >0.975041</td> \n",
       "        <td id=\"T_73e3e83b_d14e_11e8_bcd8_ec086b03c2a7row11_col2\" class=\"data row11 col2\" >0.44459</td> \n",
       "        <td id=\"T_73e3e83b_d14e_11e8_bcd8_ec086b03c2a7row11_col3\" class=\"data row11 col3\" >0.241538</td> \n",
       "        <td id=\"T_73e3e83b_d14e_11e8_bcd8_ec086b03c2a7row11_col4\" class=\"data row11 col4\" >0.742227</td> \n",
       "    </tr>    <tr> \n",
       "        <th id=\"T_73e3e83b_d14e_11e8_bcd8_ec086b03c2a7level0_row12\" class=\"row_heading level0 row12\" >12</th> \n",
       "        <td id=\"T_73e3e83b_d14e_11e8_bcd8_ec086b03c2a7row12_col0\" class=\"data row12 col0\" >0.425115</td> \n",
       "        <td id=\"T_73e3e83b_d14e_11e8_bcd8_ec086b03c2a7row12_col1\" class=\"data row12 col1\" >0.306063</td> \n",
       "        <td id=\"T_73e3e83b_d14e_11e8_bcd8_ec086b03c2a7row12_col2\" class=\"data row12 col2\" >0.890218</td> \n",
       "        <td id=\"T_73e3e83b_d14e_11e8_bcd8_ec086b03c2a7row12_col3\" class=\"data row12 col3\" >0.927296</td> \n",
       "        <td id=\"T_73e3e83b_d14e_11e8_bcd8_ec086b03c2a7row12_col4\" class=\"data row12 col4\" >0.549283</td> \n",
       "    </tr>    <tr> \n",
       "        <th id=\"T_73e3e83b_d14e_11e8_bcd8_ec086b03c2a7level0_row13\" class=\"row_heading level0 row13\" >13</th> \n",
       "        <td id=\"T_73e3e83b_d14e_11e8_bcd8_ec086b03c2a7row13_col0\" class=\"data row13 col0\" >0.432604</td> \n",
       "        <td id=\"T_73e3e83b_d14e_11e8_bcd8_ec086b03c2a7row13_col1\" class=\"data row13 col1\" >0.44074</td> \n",
       "        <td id=\"T_73e3e83b_d14e_11e8_bcd8_ec086b03c2a7row13_col2\" class=\"data row13 col2\" >0.817917</td> \n",
       "        <td id=\"T_73e3e83b_d14e_11e8_bcd8_ec086b03c2a7row13_col3\" class=\"data row13 col3\" >0.740045</td> \n",
       "        <td id=\"T_73e3e83b_d14e_11e8_bcd8_ec086b03c2a7row13_col4\" class=\"data row13 col4\" >0.207845</td> \n",
       "    </tr>    <tr> \n",
       "        <th id=\"T_73e3e83b_d14e_11e8_bcd8_ec086b03c2a7level0_row14\" class=\"row_heading level0 row14\" >14</th> \n",
       "        <td id=\"T_73e3e83b_d14e_11e8_bcd8_ec086b03c2a7row14_col0\" class=\"data row14 col0\" >0.494805</td> \n",
       "        <td id=\"T_73e3e83b_d14e_11e8_bcd8_ec086b03c2a7row14_col1\" class=\"data row14 col1\" >0.367568</td> \n",
       "        <td id=\"T_73e3e83b_d14e_11e8_bcd8_ec086b03c2a7row14_col2\" class=\"data row14 col2\" >0.96014</td> \n",
       "        <td id=\"T_73e3e83b_d14e_11e8_bcd8_ec086b03c2a7row14_col3\" class=\"data row14 col3\" >0.298298</td> \n",
       "        <td id=\"T_73e3e83b_d14e_11e8_bcd8_ec086b03c2a7row14_col4\" class=\"data row14 col4\" >0.857585</td> \n",
       "    </tr>    <tr> \n",
       "        <th id=\"T_73e3e83b_d14e_11e8_bcd8_ec086b03c2a7level0_row15\" class=\"row_heading level0 row15\" >15</th> \n",
       "        <td id=\"T_73e3e83b_d14e_11e8_bcd8_ec086b03c2a7row15_col0\" class=\"data row15 col0\" >0.0166864</td> \n",
       "        <td id=\"T_73e3e83b_d14e_11e8_bcd8_ec086b03c2a7row15_col1\" class=\"data row15 col1\" >0.144394</td> \n",
       "        <td id=\"T_73e3e83b_d14e_11e8_bcd8_ec086b03c2a7row15_col2\" class=\"data row15 col2\" >0.304289</td> \n",
       "        <td id=\"T_73e3e83b_d14e_11e8_bcd8_ec086b03c2a7row15_col3\" class=\"data row15 col3\" >0.995104</td> \n",
       "        <td id=\"T_73e3e83b_d14e_11e8_bcd8_ec086b03c2a7row15_col4\" class=\"data row15 col4\" >0.218817</td> \n",
       "    </tr>    <tr> \n",
       "        <th id=\"T_73e3e83b_d14e_11e8_bcd8_ec086b03c2a7level0_row16\" class=\"row_heading level0 row16\" >16</th> \n",
       "        <td id=\"T_73e3e83b_d14e_11e8_bcd8_ec086b03c2a7row16_col0\" class=\"data row16 col0\" >0.306232</td> \n",
       "        <td id=\"T_73e3e83b_d14e_11e8_bcd8_ec086b03c2a7row16_col1\" class=\"data row16 col1\" >0.959074</td> \n",
       "        <td id=\"T_73e3e83b_d14e_11e8_bcd8_ec086b03c2a7row16_col2\" class=\"data row16 col2\" >0.887619</td> \n",
       "        <td id=\"T_73e3e83b_d14e_11e8_bcd8_ec086b03c2a7row16_col3\" class=\"data row16 col3\" >0.46465</td> \n",
       "        <td id=\"T_73e3e83b_d14e_11e8_bcd8_ec086b03c2a7row16_col4\" class=\"data row16 col4\" >0.421515</td> \n",
       "    </tr>    <tr> \n",
       "        <th id=\"T_73e3e83b_d14e_11e8_bcd8_ec086b03c2a7level0_row17\" class=\"row_heading level0 row17\" >17</th> \n",
       "        <td id=\"T_73e3e83b_d14e_11e8_bcd8_ec086b03c2a7row17_col0\" class=\"data row17 col0\" >0.378508</td> \n",
       "        <td id=\"T_73e3e83b_d14e_11e8_bcd8_ec086b03c2a7row17_col1\" class=\"data row17 col1\" >0.472687</td> \n",
       "        <td id=\"T_73e3e83b_d14e_11e8_bcd8_ec086b03c2a7row17_col2\" class=\"data row17 col2\" >0.371662</td> \n",
       "        <td id=\"T_73e3e83b_d14e_11e8_bcd8_ec086b03c2a7row17_col3\" class=\"data row17 col3\" >0.0174907</td> \n",
       "        <td id=\"T_73e3e83b_d14e_11e8_bcd8_ec086b03c2a7row17_col4\" class=\"data row17 col4\" >0.805382</td> \n",
       "    </tr>    <tr> \n",
       "        <th id=\"T_73e3e83b_d14e_11e8_bcd8_ec086b03c2a7level0_row18\" class=\"row_heading level0 row18\" >18</th> \n",
       "        <td id=\"T_73e3e83b_d14e_11e8_bcd8_ec086b03c2a7row18_col0\" class=\"data row18 col0\" >0.0889695</td> \n",
       "        <td id=\"T_73e3e83b_d14e_11e8_bcd8_ec086b03c2a7row18_col1\" class=\"data row18 col1\" >0.0680603</td> \n",
       "        <td id=\"T_73e3e83b_d14e_11e8_bcd8_ec086b03c2a7row18_col2\" class=\"data row18 col2\" >0.203561</td> \n",
       "        <td id=\"T_73e3e83b_d14e_11e8_bcd8_ec086b03c2a7row18_col3\" class=\"data row18 col3\" >0.851318</td> \n",
       "        <td id=\"T_73e3e83b_d14e_11e8_bcd8_ec086b03c2a7row18_col4\" class=\"data row18 col4\" >0.351321</td> \n",
       "    </tr>    <tr> \n",
       "        <th id=\"T_73e3e83b_d14e_11e8_bcd8_ec086b03c2a7level0_row19\" class=\"row_heading level0 row19\" >19</th> \n",
       "        <td id=\"T_73e3e83b_d14e_11e8_bcd8_ec086b03c2a7row19_col0\" class=\"data row19 col0\" >0.704265</td> \n",
       "        <td id=\"T_73e3e83b_d14e_11e8_bcd8_ec086b03c2a7row19_col1\" class=\"data row19 col1\" >0.507791</td> \n",
       "        <td id=\"T_73e3e83b_d14e_11e8_bcd8_ec086b03c2a7row19_col2\" class=\"data row19 col2\" >0.503722</td> \n",
       "        <td id=\"T_73e3e83b_d14e_11e8_bcd8_ec086b03c2a7row19_col3\" class=\"data row19 col3\" >0.0222208</td> \n",
       "        <td id=\"T_73e3e83b_d14e_11e8_bcd8_ec086b03c2a7row19_col4\" class=\"data row19 col4\" >0.882728</td> \n",
       "    </tr></tbody> \n",
       "</table> "
      ],
      "text/plain": [
       "<pandas.io.formats.style.Styler at 0x7f1963182048>"
      ]
     },
     "execution_count": 68,
     "metadata": {},
     "output_type": "execute_result"
    }
   ],
   "source": [
    "#@solution\n",
    "table.style.apply(highlight_max).apply(highlight_min)"
   ]
  },
  {
   "cell_type": "code",
   "execution_count": 69,
   "metadata": {},
   "outputs": [],
   "source": []
  },
  {
   "cell_type": "code",
   "execution_count": 69,
   "metadata": {},
   "outputs": [],
   "source": []
  }
 ],
 "metadata": {
  "kernelspec": {
   "display_name": "Python 3",
   "language": "python",
   "name": "python3"
  },
  "language_info": {
   "codemirror_mode": {
    "name": "ipython",
    "version": 3
   },
   "file_extension": ".py",
   "mimetype": "text/x-python",
   "name": "python",
   "nbconvert_exporter": "python",
   "pygments_lexer": "ipython3",
   "version": "3.5.2"
  },
  "toc": {
   "base_numbering": 1,
   "nav_menu": {},
   "number_sections": true,
   "sideBar": true,
   "skip_h1_title": false,
   "title_cell": "Table of Contents",
   "title_sidebar": "Contents",
   "toc_cell": false,
   "toc_position": {},
   "toc_section_display": true,
   "toc_window_display": false
  }
 },
 "nbformat": 4,
 "nbformat_minor": 2
}
